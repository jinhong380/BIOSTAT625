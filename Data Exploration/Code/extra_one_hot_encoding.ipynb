{
 "cells": [
  {
   "cell_type": "code",
   "execution_count": 1,
   "id": "c3350143-f7cf-4eec-8e89-dc247848062c",
   "metadata": {},
   "outputs": [],
   "source": [
    "import pandas as pd\n",
    "import matplotlib.pyplot as plt\n",
    "import numpy as np\n",
    "import seaborn as sns"
   ]
  },
  {
   "cell_type": "code",
   "execution_count": 2,
   "id": "4e49ef7a-29f0-4cb7-9c8e-756c9cb94931",
   "metadata": {},
   "outputs": [],
   "source": [
    "housing = pd.read_csv(\"/Users/jintonghong/Documents/GitHub/BIOSTAT625/Data Exploration/Clustering/data/housing_clean_clustering.csv\")#, na_values='null')"
   ]
  },
  {
   "cell_type": "code",
   "execution_count": 4,
   "id": "8f7f3058-e5b7-4d04-a046-57f9113e7d87",
   "metadata": {},
   "outputs": [],
   "source": [
    "def one_hot(var):\n",
    "    housing[var].replace('', np.nan, inplace=True)\n",
    "    housing[var] = pd.Categorical(housing[var])\n",
    "    housing[var]\n",
    "    \n",
    "    onehot = pd.get_dummies(housing[var], prefix=var, drop_first=False) #Here, if we delete all na we should use True\n",
    "    onehot = onehot.astype(float)\n",
    "    onehot.loc[housing[var].isnull(), onehot.columns.str.startswith(var)] = np.nan\n",
    "\n",
    "    return onehot"
   ]
  },
  {
   "cell_type": "code",
   "execution_count": 5,
   "id": "94bba29e-546c-46f0-ad01-8e070e70c028",
   "metadata": {},
   "outputs": [],
   "source": [
    "housing = housing.dropna(subset=['Price (in rupees)'])"
   ]
  },
  {
   "cell_type": "code",
   "execution_count": 6,
   "id": "e4e0f099-0e94-4cf9-9a55-4169a16945b5",
   "metadata": {},
   "outputs": [
    {
     "name": "stdout",
     "output_type": "stream",
     "text": [
      "<class 'pandas.core.frame.DataFrame'>\n",
      "Index: 169866 entries, 0 to 187530\n",
      "Data columns (total 35 columns):\n",
      " #   Column                     Non-Null Count   Dtype  \n",
      "---  ------                     --------------   -----  \n",
      " 0   Status                     169866 non-null  int64  \n",
      " 1   Transaction                169860 non-null  object \n",
      " 2   Transaction_Other          169860 non-null  float64\n",
      " 3   Transaction_Resale         169860 non-null  float64\n",
      " 4   Transaction_New Property   169860 non-null  float64\n",
      " 5   Transaction_Rent/Lease     169860 non-null  float64\n",
      " 6   Current Floor              162701 non-null  float64\n",
      " 7   Total Floors               162983 non-null  float64\n",
      " 8   Current Floor.c            162701 non-null  float64\n",
      " 9   Total Floors.c             162983 non-null  float64\n",
      " 10  Garden/Park                99220 non-null   float64\n",
      " 11  Pool                       99220 non-null   float64\n",
      " 12  Main Road                  99220 non-null   float64\n",
      " 13  facing_East                107814 non-null  float64\n",
      " 14  facing_West                107814 non-null  float64\n",
      " 15  facing_North - East        107814 non-null  float64\n",
      " 16  facing_North               107814 non-null  float64\n",
      " 17  facing_North - West        107814 non-null  float64\n",
      " 18  facing_South               107814 non-null  float64\n",
      " 19  facing_South -West         107814 non-null  float64\n",
      " 20  facing_South - East        107814 non-null  float64\n",
      " 21  Furnishing_Unfurnished     167806 non-null  float64\n",
      " 22  Furnishing_Semi-Furnished  167806 non-null  float64\n",
      " 23  Furnishing_Furnished       167806 non-null  float64\n",
      " 24  Index                      169866 non-null  int64  \n",
      " 25  Bathroom_Category          169084 non-null  object \n",
      " 26  Balcony_Category           124789 non-null  object \n",
      " 27  Car_Parking_Category       169866 non-null  object \n",
      " 28  Ownership_Category         169866 non-null  object \n",
      " 29  Unnamed: 0                 169866 non-null  int64  \n",
      " 30  Price (in rupees)          169866 non-null  float64\n",
      " 31  location                   169866 non-null  object \n",
      " 32  Carpet Area                88348 non-null   float64\n",
      " 33  State                      169866 non-null  object \n",
      " 34  clustering                 169866 non-null  int64  \n",
      "dtypes: float64(24), int64(4), object(7)\n",
      "memory usage: 46.7+ MB\n"
     ]
    }
   ],
   "source": [
    "housing.info()"
   ]
  },
  {
   "cell_type": "code",
   "execution_count": 7,
   "id": "3132701a-3b2c-45e8-ae93-aa87e3da0d38",
   "metadata": {},
   "outputs": [],
   "source": [
    "housing = housing.join(one_hot(\"Car_Parking_Category\"))"
   ]
  },
  {
   "cell_type": "code",
   "execution_count": 8,
   "id": "500236b8-6561-4694-bf63-bc0ade9b1242",
   "metadata": {},
   "outputs": [],
   "source": [
    "housing = housing.join(one_hot(\"Balcony_Category\"))"
   ]
  },
  {
   "cell_type": "code",
   "execution_count": 9,
   "id": "fc0fb877-e29d-4dcf-a6c8-634093095064",
   "metadata": {},
   "outputs": [],
   "source": [
    "housing = housing.join(one_hot(\"Bathroom_Category\"))"
   ]
  },
  {
   "cell_type": "code",
   "execution_count": 10,
   "id": "de22da19-9051-47cf-a04d-3d4618763891",
   "metadata": {},
   "outputs": [],
   "source": [
    "housing = housing.join(one_hot(\"Ownership_Category\"))"
   ]
  },
  {
   "cell_type": "code",
   "execution_count": 11,
   "id": "817cb3a9-ed58-43a6-bb1a-400a40a43e79",
   "metadata": {},
   "outputs": [],
   "source": [
    "housing = housing.join(one_hot(\"clustering\"))"
   ]
  },
  {
   "cell_type": "code",
   "execution_count": 12,
   "id": "ef5d6b70-46dc-488a-af91-84f3d56635e1",
   "metadata": {},
   "outputs": [],
   "source": [
    "housing_final = housing.drop(columns=['clustering', 'Car_Parking_Category', 'Balcony_Category', 'Bathroom_Category', 'Ownership_Category',\n",
    "                      'Current Floor','Total Floors', 'State', 'location','Transaction','Index',\n",
    "                                     'Unnamed: 0','Status'], axis =1)"
   ]
  },
  {
   "cell_type": "code",
   "execution_count": 13,
   "id": "c7b9ba74-2912-4df8-98da-86db68e739aa",
   "metadata": {},
   "outputs": [],
   "source": [
    "housing_final = housing_final[housing_final['Price (in rupees)'] >= 100]"
   ]
  },
  {
   "cell_type": "code",
   "execution_count": 14,
   "id": "92611608-da7e-47a5-a333-ffaa3ccffbeb",
   "metadata": {},
   "outputs": [
    {
     "name": "stdout",
     "output_type": "stream",
     "text": [
      "<class 'pandas.core.frame.DataFrame'>\n",
      "Index: 169841 entries, 0 to 187530\n",
      "Data columns (total 44 columns):\n",
      " #   Column                                   Non-Null Count   Dtype  \n",
      "---  ------                                   --------------   -----  \n",
      " 0   Transaction_Other                        169835 non-null  float64\n",
      " 1   Transaction_Resale                       169835 non-null  float64\n",
      " 2   Transaction_New Property                 169835 non-null  float64\n",
      " 3   Transaction_Rent/Lease                   169835 non-null  float64\n",
      " 4   Current Floor.c                          162677 non-null  float64\n",
      " 5   Total Floors.c                           162959 non-null  float64\n",
      " 6   Garden/Park                              99210 non-null   float64\n",
      " 7   Pool                                     99210 non-null   float64\n",
      " 8   Main Road                                99210 non-null   float64\n",
      " 9   facing_East                              107802 non-null  float64\n",
      " 10  facing_West                              107802 non-null  float64\n",
      " 11  facing_North - East                      107802 non-null  float64\n",
      " 12  facing_North                             107802 non-null  float64\n",
      " 13  facing_North - West                      107802 non-null  float64\n",
      " 14  facing_South                             107802 non-null  float64\n",
      " 15  facing_South -West                       107802 non-null  float64\n",
      " 16  facing_South - East                      107802 non-null  float64\n",
      " 17  Furnishing_Unfurnished                   167783 non-null  float64\n",
      " 18  Furnishing_Semi-Furnished                167783 non-null  float64\n",
      " 19  Furnishing_Furnished                     167783 non-null  float64\n",
      " 20  Price (in rupees)                        169841 non-null  float64\n",
      " 21  Carpet Area                              88334 non-null   float64\n",
      " 22  Car_Parking_Category_covered             169841 non-null  float64\n",
      " 23  Car_Parking_Category_open                169841 non-null  float64\n",
      " 24  Car_Parking_Category_unknown             169841 non-null  float64\n",
      " 25  Balcony_Category_=1                      124769 non-null  float64\n",
      " 26  Balcony_Category_=2                      124769 non-null  float64\n",
      " 27  Balcony_Category_=3                      124769 non-null  float64\n",
      " 28  Balcony_Category_=4                      124769 non-null  float64\n",
      " 29  Balcony_Category_>=5                     124769 non-null  float64\n",
      " 30  Bathroom_Category_=1                     169060 non-null  float64\n",
      " 31  Bathroom_Category_=2                     169060 non-null  float64\n",
      " 32  Bathroom_Category_=3                     169060 non-null  float64\n",
      " 33  Bathroom_Category_=4                     169060 non-null  float64\n",
      " 34  Bathroom_Category_>=5                    169060 non-null  float64\n",
      " 35  Ownership_Category_Co-operative Society  169841 non-null  float64\n",
      " 36  Ownership_Category_Freehold              169841 non-null  float64\n",
      " 37  Ownership_Category_Leasehold             169841 non-null  float64\n",
      " 38  Ownership_Category_Other                 169841 non-null  float64\n",
      " 39  Ownership_Category_Power Of Attorney     169841 non-null  float64\n",
      " 40  clustering_1                             169841 non-null  float64\n",
      " 41  clustering_2                             169841 non-null  float64\n",
      " 42  clustering_3                             169841 non-null  float64\n",
      " 43  clustering_4                             169841 non-null  float64\n",
      "dtypes: float64(44)\n",
      "memory usage: 58.3 MB\n"
     ]
    }
   ],
   "source": [
    "housing_final.info()"
   ]
  },
  {
   "cell_type": "code",
   "execution_count": 15,
   "id": "e03d77d0-22f0-419d-8408-085670a37fba",
   "metadata": {},
   "outputs": [],
   "source": [
    "housing_rmna_final = housing_final.dropna()"
   ]
  },
  {
   "cell_type": "code",
   "execution_count": 16,
   "id": "09a665ee-e7d1-4c3e-93c5-3508ec73de4d",
   "metadata": {},
   "outputs": [],
   "source": [
    "housing_final.to_csv('final_full_OneHotEncoded_housing.csv', index=False)"
   ]
  },
  {
   "cell_type": "code",
   "execution_count": 17,
   "id": "06182094-9a61-436b-8f8a-5fce40138285",
   "metadata": {},
   "outputs": [],
   "source": [
    "housing_rmna_final.to_csv('final_full_rmna_OneHotEncoded_housing.csv', index=False)"
   ]
  }
 ],
 "metadata": {
  "kernelspec": {
   "display_name": "Python 3 (ipykernel)",
   "language": "python",
   "name": "python3"
  },
  "language_info": {
   "codemirror_mode": {
    "name": "ipython",
    "version": 3
   },
   "file_extension": ".py",
   "mimetype": "text/x-python",
   "name": "python",
   "nbconvert_exporter": "python",
   "pygments_lexer": "ipython3",
   "version": "3.11.7"
  }
 },
 "nbformat": 4,
 "nbformat_minor": 5
}
