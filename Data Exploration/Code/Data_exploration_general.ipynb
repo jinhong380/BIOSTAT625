{
 "cells": [
  {
   "cell_type": "markdown",
   "id": "24501656-4641-457b-bf0a-2e65eee0c5a9",
   "metadata": {},
   "source": [
    "# Data Exploration       \n",
    "## Set Ups:"
   ]
  },
  {
   "cell_type": "code",
   "execution_count": 29,
   "id": "63465219-d783-4477-bcf6-060eef9735a1",
   "metadata": {},
   "outputs": [],
   "source": [
    "import pandas as pd\n",
    "import matplotlib.pyplot as plt\n",
    "import numpy as np\n",
    "import seaborn as sns"
   ]
  },
  {
   "cell_type": "markdown",
   "id": "89b4302b-f628-494b-8942-778d0979c644",
   "metadata": {},
   "source": [
    "## Import the Dataset\n",
    "\n",
    "### House Price Dataset\n",
    "This dataset consists of 188K rows of house prices from cities all over India. It's a great resource for analyzing housing trends and prices in different Indian cities."
   ]
  },
  {
   "cell_type": "code",
   "execution_count": 30,
   "id": "ada15a4e-576c-4985-b00d-50d640ed0439",
   "metadata": {},
   "outputs": [],
   "source": [
    "housing = pd.read_csv(\"house_prices.csv\", keep_default_na=False)#, na_values='null')\n",
    "housing_copy = housing"
   ]
  },
  {
   "cell_type": "markdown",
   "id": "579b8d02-9a53-40e0-9ef0-ccebf318e471",
   "metadata": {},
   "source": [
    "## Summary of the Dataset:"
   ]
  },
  {
   "cell_type": "code",
   "execution_count": 31,
   "id": "a4dbab6f-246d-46cf-a5e9-c72ccc421874",
   "metadata": {
    "scrolled": true
   },
   "outputs": [
    {
     "data": {
      "text/plain": [
       "Index                                                              420\n",
       "Title                2 BHK Ready to Occupy Flat for sale in Cosmos ...\n",
       "Description          This lovely 2 BHK Flat in Thane West, Thane is...\n",
       "Amount(in rupees)                                             1.60 Cr \n",
       "Price (in rupees)                                                16162\n",
       "location                                                         thane\n",
       "Carpet Area                                                           \n",
       "Status                                                   Ready to Move\n",
       "Floor                                                     19 out of 20\n",
       "Transaction                                                     Resale\n",
       "Furnishing                                              Semi-Furnished\n",
       "facing                                                                \n",
       "overlooking                                                           \n",
       "Society                                               Cosmos Mary Park\n",
       "Bathroom                                                             2\n",
       "Balcony                                                               \n",
       "Car Parking                                                           \n",
       "Ownership                                                             \n",
       "Super Area                                                    990 sqft\n",
       "Dimensions                                                            \n",
       "Plot Area                                                             \n",
       "Name: 420, dtype: object"
      ]
     },
     "execution_count": 31,
     "metadata": {},
     "output_type": "execute_result"
    }
   ],
   "source": [
    "# Take a look at the data\n",
    "pd.set_option('display.max_columns', None)\n",
    "housing.head()\n",
    "\n",
    "housing_copy.iloc[420]\n"
   ]
  },
  {
   "cell_type": "markdown",
   "id": "35415a3e-26ac-418e-a5a0-922d43fd0d20",
   "metadata": {},
   "source": [
    "**Data Description**\\\n",
    "The House Price dataset provides valuable information about residential properties, encompassing a range of features such as carpet area, property status, floor, transaction type, furnishing, facing, overlooking, society name, bathroom count, balcony count, car parking availability, ownership type, super area, dimensions, plot area, property title, total amount, price per square foot, and a description of the property's location. This dataset offers insights into the dynamics of the housing market and can aid buyers, sellers, and real estate professionals in making informed decisions."
   ]
  },
  {
   "cell_type": "code",
   "execution_count": 32,
   "id": "025d11cb-73eb-4b91-b29b-3dd3413e19a5",
   "metadata": {},
   "outputs": [
    {
     "data": {
      "text/html": [
       "<div>\n",
       "<style scoped>\n",
       "    .dataframe tbody tr th:only-of-type {\n",
       "        vertical-align: middle;\n",
       "    }\n",
       "\n",
       "    .dataframe tbody tr th {\n",
       "        vertical-align: top;\n",
       "    }\n",
       "\n",
       "    .dataframe thead th {\n",
       "        text-align: right;\n",
       "    }\n",
       "</style>\n",
       "<table border=\"1\" class=\"dataframe\">\n",
       "  <thead>\n",
       "    <tr style=\"text-align: right;\">\n",
       "      <th></th>\n",
       "      <th>Index</th>\n",
       "      <th>Title</th>\n",
       "      <th>Description</th>\n",
       "      <th>Amount(in rupees)</th>\n",
       "      <th>Price (in rupees)</th>\n",
       "      <th>location</th>\n",
       "      <th>Carpet Area</th>\n",
       "      <th>Status</th>\n",
       "      <th>Floor</th>\n",
       "      <th>Transaction</th>\n",
       "      <th>Furnishing</th>\n",
       "      <th>facing</th>\n",
       "      <th>overlooking</th>\n",
       "      <th>Society</th>\n",
       "      <th>Bathroom</th>\n",
       "      <th>Balcony</th>\n",
       "      <th>Car Parking</th>\n",
       "      <th>Ownership</th>\n",
       "      <th>Super Area</th>\n",
       "      <th>Dimensions</th>\n",
       "      <th>Plot Area</th>\n",
       "    </tr>\n",
       "  </thead>\n",
       "  <tbody>\n",
       "    <tr>\n",
       "      <th>0</th>\n",
       "      <td>0</td>\n",
       "      <td>1 BHK Ready to Occupy Flat for sale in Srushti...</td>\n",
       "      <td>Bhiwandi, Thane has an attractive 1 BHK Flat f...</td>\n",
       "      <td>42 Lac</td>\n",
       "      <td>6000</td>\n",
       "      <td>thane</td>\n",
       "      <td>500 sqft</td>\n",
       "      <td>Ready to Move</td>\n",
       "      <td>10 out of 11</td>\n",
       "      <td>Resale</td>\n",
       "      <td>Unfurnished</td>\n",
       "      <td></td>\n",
       "      <td></td>\n",
       "      <td>Srushti Siddhi Mangal Murti Complex</td>\n",
       "      <td>1</td>\n",
       "      <td>2</td>\n",
       "      <td></td>\n",
       "      <td></td>\n",
       "      <td></td>\n",
       "      <td></td>\n",
       "      <td></td>\n",
       "    </tr>\n",
       "    <tr>\n",
       "      <th>1</th>\n",
       "      <td>1</td>\n",
       "      <td>2 BHK Ready to Occupy Flat for sale in Dosti V...</td>\n",
       "      <td>One can find this stunning 2 BHK flat for sale...</td>\n",
       "      <td>98 Lac</td>\n",
       "      <td>13799</td>\n",
       "      <td>thane</td>\n",
       "      <td>473 sqft</td>\n",
       "      <td>Ready to Move</td>\n",
       "      <td>3 out of 22</td>\n",
       "      <td>Resale</td>\n",
       "      <td>Semi-Furnished</td>\n",
       "      <td>East</td>\n",
       "      <td>Garden/Park</td>\n",
       "      <td>Dosti Vihar</td>\n",
       "      <td>2</td>\n",
       "      <td></td>\n",
       "      <td>1 Open</td>\n",
       "      <td>Freehold</td>\n",
       "      <td></td>\n",
       "      <td></td>\n",
       "      <td></td>\n",
       "    </tr>\n",
       "    <tr>\n",
       "      <th>2</th>\n",
       "      <td>2</td>\n",
       "      <td>2 BHK Ready to Occupy Flat for sale in Sunrise...</td>\n",
       "      <td>Up for immediate sale is a 2 BHK apartment in ...</td>\n",
       "      <td>1.40 Cr</td>\n",
       "      <td>17500</td>\n",
       "      <td>thane</td>\n",
       "      <td>779 sqft</td>\n",
       "      <td>Ready to Move</td>\n",
       "      <td>10 out of 29</td>\n",
       "      <td>Resale</td>\n",
       "      <td>Unfurnished</td>\n",
       "      <td>East</td>\n",
       "      <td>Garden/Park</td>\n",
       "      <td>Sunrise by Kalpataru</td>\n",
       "      <td>2</td>\n",
       "      <td></td>\n",
       "      <td>1 Covered</td>\n",
       "      <td>Freehold</td>\n",
       "      <td></td>\n",
       "      <td></td>\n",
       "      <td></td>\n",
       "    </tr>\n",
       "    <tr>\n",
       "      <th>3</th>\n",
       "      <td>3</td>\n",
       "      <td>1 BHK Ready to Occupy Flat for sale Kasheli</td>\n",
       "      <td>This beautiful 1 BHK Flat is available for sal...</td>\n",
       "      <td>25 Lac</td>\n",
       "      <td></td>\n",
       "      <td>thane</td>\n",
       "      <td>530 sqft</td>\n",
       "      <td>Ready to Move</td>\n",
       "      <td>1 out of 3</td>\n",
       "      <td>Resale</td>\n",
       "      <td>Unfurnished</td>\n",
       "      <td></td>\n",
       "      <td></td>\n",
       "      <td></td>\n",
       "      <td>1</td>\n",
       "      <td>1</td>\n",
       "      <td></td>\n",
       "      <td></td>\n",
       "      <td></td>\n",
       "      <td></td>\n",
       "      <td></td>\n",
       "    </tr>\n",
       "    <tr>\n",
       "      <th>4</th>\n",
       "      <td>4</td>\n",
       "      <td>2 BHK Ready to Occupy Flat for sale in TenX Ha...</td>\n",
       "      <td>This lovely 2 BHK Flat in Pokhran Road, Thane ...</td>\n",
       "      <td>1.60 Cr</td>\n",
       "      <td>18824</td>\n",
       "      <td>thane</td>\n",
       "      <td>635 sqft</td>\n",
       "      <td>Ready to Move</td>\n",
       "      <td>20 out of 42</td>\n",
       "      <td>Resale</td>\n",
       "      <td>Unfurnished</td>\n",
       "      <td>West</td>\n",
       "      <td>Garden/Park, Main Road</td>\n",
       "      <td>TenX Habitat Raymond Realty</td>\n",
       "      <td>2</td>\n",
       "      <td></td>\n",
       "      <td>1 Covered</td>\n",
       "      <td>Co-operative Society</td>\n",
       "      <td></td>\n",
       "      <td></td>\n",
       "      <td></td>\n",
       "    </tr>\n",
       "  </tbody>\n",
       "</table>\n",
       "</div>"
      ],
      "text/plain": [
       "   Index                                              Title  \\\n",
       "0      0  1 BHK Ready to Occupy Flat for sale in Srushti...   \n",
       "1      1  2 BHK Ready to Occupy Flat for sale in Dosti V...   \n",
       "2      2  2 BHK Ready to Occupy Flat for sale in Sunrise...   \n",
       "3      3        1 BHK Ready to Occupy Flat for sale Kasheli   \n",
       "4      4  2 BHK Ready to Occupy Flat for sale in TenX Ha...   \n",
       "\n",
       "                                         Description Amount(in rupees)  \\\n",
       "0  Bhiwandi, Thane has an attractive 1 BHK Flat f...           42 Lac    \n",
       "1  One can find this stunning 2 BHK flat for sale...           98 Lac    \n",
       "2  Up for immediate sale is a 2 BHK apartment in ...          1.40 Cr    \n",
       "3  This beautiful 1 BHK Flat is available for sal...           25 Lac    \n",
       "4  This lovely 2 BHK Flat in Pokhran Road, Thane ...          1.60 Cr    \n",
       "\n",
       "  Price (in rupees) location Carpet Area         Status         Floor  \\\n",
       "0              6000    thane    500 sqft  Ready to Move  10 out of 11   \n",
       "1             13799    thane    473 sqft  Ready to Move   3 out of 22   \n",
       "2             17500    thane    779 sqft  Ready to Move  10 out of 29   \n",
       "3                      thane    530 sqft  Ready to Move    1 out of 3   \n",
       "4             18824    thane    635 sqft  Ready to Move  20 out of 42   \n",
       "\n",
       "  Transaction      Furnishing facing             overlooking  \\\n",
       "0      Resale     Unfurnished                                  \n",
       "1      Resale  Semi-Furnished   East             Garden/Park   \n",
       "2      Resale     Unfurnished   East             Garden/Park   \n",
       "3      Resale     Unfurnished                                  \n",
       "4      Resale     Unfurnished   West  Garden/Park, Main Road   \n",
       "\n",
       "                               Society Bathroom Balcony Car Parking  \\\n",
       "0  Srushti Siddhi Mangal Murti Complex        1       2               \n",
       "1                          Dosti Vihar        2              1 Open   \n",
       "2                 Sunrise by Kalpataru        2           1 Covered   \n",
       "3                                             1       1               \n",
       "4          TenX Habitat Raymond Realty        2           1 Covered   \n",
       "\n",
       "              Ownership Super Area Dimensions Plot Area  \n",
       "0                                                        \n",
       "1              Freehold                                  \n",
       "2              Freehold                                  \n",
       "3                                                        \n",
       "4  Co-operative Society                                  "
      ]
     },
     "execution_count": 32,
     "metadata": {},
     "output_type": "execute_result"
    }
   ],
   "source": [
    "# Check for datatype and corresponding missing values \n",
    "housing.head()"
   ]
  },
  {
   "cell_type": "code",
   "execution_count": 33,
   "id": "722247e9-c7a3-426d-bcc5-482ebddc0c30",
   "metadata": {},
   "outputs": [
    {
     "data": {
      "text/plain": [
       "Index                0\n",
       "Title                0\n",
       "Description          0\n",
       "Amount(in rupees)    0\n",
       "Price (in rupees)    0\n",
       "location             0\n",
       "Carpet Area          0\n",
       "Status               0\n",
       "Floor                0\n",
       "Transaction          0\n",
       "Furnishing           0\n",
       "facing               0\n",
       "overlooking          0\n",
       "Society              0\n",
       "Bathroom             0\n",
       "Balcony              0\n",
       "Car Parking          0\n",
       "Ownership            0\n",
       "Super Area           0\n",
       "Dimensions           0\n",
       "Plot Area            0\n",
       "dtype: int64"
      ]
     },
     "execution_count": 33,
     "metadata": {},
     "output_type": "execute_result"
    }
   ],
   "source": [
    "na_rows = housing.isna().sum(axis=0)\n",
    "na_rows"
   ]
  },
  {
   "cell_type": "markdown",
   "id": "df288f3c-46ce-4d44-a892-a5284266cc0b",
   "metadata": {},
   "source": [
    "**Check for unique identifiers**"
   ]
  },
  {
   "cell_type": "code",
   "execution_count": 34,
   "id": "179cdf94-c18f-4465-89f1-696b7ed34829",
   "metadata": {},
   "outputs": [
    {
     "data": {
      "text/plain": [
       "Index                187531\n",
       "Title                 32446\n",
       "Description           65635\n",
       "Amount(in rupees)      1561\n",
       "Price (in rupees)     10959\n",
       "location                 81\n",
       "Carpet Area            2759\n",
       "Status                    2\n",
       "Floor                   948\n",
       "Transaction               5\n",
       "Furnishing                4\n",
       "facing                    9\n",
       "overlooking              20\n",
       "Society               10377\n",
       "Bathroom                 12\n",
       "Balcony                  12\n",
       "Car Parking             230\n",
       "Ownership                 5\n",
       "Super Area             2977\n",
       "Dimensions                1\n",
       "Plot Area                 1\n",
       "dtype: int64"
      ]
     },
     "execution_count": 34,
     "metadata": {},
     "output_type": "execute_result"
    }
   ],
   "source": [
    "housing.nunique()"
   ]
  },
  {
   "cell_type": "markdown",
   "id": "4ac85647-e898-401f-963c-73c850a62e26",
   "metadata": {},
   "source": [
    "## Converting types of the variables"
   ]
  },
  {
   "cell_type": "markdown",
   "id": "09c7483f-8b25-4279-90b2-3573710cb379",
   "metadata": {},
   "source": [
    "1. Amount (in repees) - change cr to lac and delete lac, so the unit is also lac after the transformation"
   ]
  },
  {
   "cell_type": "code",
   "execution_count": 35,
   "id": "50e017fa-8c28-451e-94b9-84792a5597dd",
   "metadata": {},
   "outputs": [
    {
     "name": "stdout",
     "output_type": "stream",
     "text": [
      "0          42.0\n",
      "1          98.0\n",
      "2         140.0\n",
      "3          25.0\n",
      "4         160.0\n",
      "          ...  \n",
      "187526     63.0\n",
      "187527     55.0\n",
      "187528     76.0\n",
      "187529     30.0\n",
      "187530    118.0\n",
      "Name: Amount(in rupees), Length: 187531, dtype: float64\n"
     ]
    }
   ],
   "source": [
    "housing[\"Amount(in rupees)\"]\n",
    "\n",
    "\n",
    "# Function to convert values\n",
    "def convert_amount(value):\n",
    "    if 'Cr' in value:\n",
    "        # Remove ' Cr' and convert to float\n",
    "        return float(value.replace(' Cr', '')) * 100\n",
    "    elif 'Lac' in value:\n",
    "        # Remove ' Lac' and convert to float\n",
    "        return float(value.replace(' Lac', ''))\n",
    "    else:\n",
    "        # Handle non-numeric values (e.g., 'Call for Price')\n",
    "        return None\n",
    "\n",
    "# Apply the conversion\n",
    "housing['Amount(in rupees)'] = housing['Amount(in rupees)'].apply(convert_amount)\n",
    "\n",
    "# Convert to float64 and handle any NaN if needed\n",
    "housing['Amount(in rupees)'] = pd.to_numeric(housing['Amount(in rupees)'])\n",
    "\n",
    "print(housing['Amount(in rupees)'])"
   ]
  },
  {
   "cell_type": "markdown",
   "id": "9365ad71-6f81-4601-b8e8-dc0700fbda59",
   "metadata": {},
   "source": [
    "2. Price - to numeric"
   ]
  },
  {
   "cell_type": "code",
   "execution_count": 36,
   "id": "22f6b922-84e2-423c-87fb-2dd49dbf1295",
   "metadata": {},
   "outputs": [
    {
     "data": {
      "text/plain": [
       "0          6000.0\n",
       "1         13799.0\n",
       "2         17500.0\n",
       "3             NaN\n",
       "4         18824.0\n",
       "           ...   \n",
       "187526     3225.0\n",
       "187527     3274.0\n",
       "187528     4343.0\n",
       "187529     4231.0\n",
       "187530     6162.0\n",
       "Name: Price (in rupees), Length: 187531, dtype: float64"
      ]
     },
     "execution_count": 36,
     "metadata": {},
     "output_type": "execute_result"
    }
   ],
   "source": [
    "housing[\"Price (in rupees)\"] = pd.to_numeric(housing[\"Price (in rupees)\"])\n",
    "housing[\"Price (in rupees)\"]"
   ]
  },
  {
   "cell_type": "markdown",
   "id": "65558ef9-2dd7-4a92-ae9b-06dd1dedec61",
   "metadata": {},
   "source": [
    "3. location - categorical with 81 unique categories"
   ]
  },
  {
   "cell_type": "code",
   "execution_count": 37,
   "id": "04e26cc3-e02a-4c73-b946-b7add5793a3b",
   "metadata": {},
   "outputs": [
    {
     "data": {
      "text/plain": [
       "0            thane\n",
       "1            thane\n",
       "2            thane\n",
       "3            thane\n",
       "4            thane\n",
       "            ...   \n",
       "187526    zirakpur\n",
       "187527    zirakpur\n",
       "187528    zirakpur\n",
       "187529    zirakpur\n",
       "187530    zirakpur\n",
       "Name: location, Length: 187531, dtype: category\n",
       "Categories (81, object): ['agra', 'ahmadnagar', 'ahmedabad', 'allahabad', ..., 'vijayawada', 'visakhapatnam', 'vrindavan', 'zirakpur']"
      ]
     },
     "execution_count": 37,
     "metadata": {},
     "output_type": "execute_result"
    }
   ],
   "source": [
    "housing['location'].replace('', np.nan, inplace=True)\n",
    "\n",
    "housing['location'] = pd.Categorical(housing[\"location\"])\n",
    "housing['location']"
   ]
  },
  {
   "cell_type": "code",
   "execution_count": 38,
   "id": "a500259d-1160-462a-975b-379d1bfad8aa",
   "metadata": {},
   "outputs": [
    {
     "data": {
      "text/plain": [
       "0"
      ]
     },
     "execution_count": 38,
     "metadata": {},
     "output_type": "execute_result"
    }
   ],
   "source": [
    "housing['location'].isna().sum()"
   ]
  },
  {
   "cell_type": "markdown",
   "id": "a703cd9a-1047-41dc-8537-98dd6ed1af88",
   "metadata": {},
   "source": [
    "4. Carpet Area - "
   ]
  },
  {
   "cell_type": "code",
   "execution_count": 39,
   "id": "b8eaefe6-665e-47c8-a226-3f167442b1c4",
   "metadata": {},
   "outputs": [
    {
     "data": {
      "text/plain": [
       "0          500.0\n",
       "1          473.0\n",
       "2          779.0\n",
       "3          530.0\n",
       "4          635.0\n",
       "           ...  \n",
       "187526       NaN\n",
       "187527       NaN\n",
       "187528    1250.0\n",
       "187529       NaN\n",
       "187530       NaN\n",
       "Name: Carpet Area, Length: 187531, dtype: float64"
      ]
     },
     "execution_count": 39,
     "metadata": {},
     "output_type": "execute_result"
    }
   ],
   "source": [
    "housing['Carpet Area'] = housing['Carpet Area'].str.replace('sqft', '').str.strip()  # Remove 'sqft' and strip whitespace\n",
    "housing['Carpet Area'] = pd.to_numeric(housing['Carpet Area'], errors='coerce')\n",
    "housing['Carpet Area']"
   ]
  },
  {
   "cell_type": "markdown",
   "id": "61c44f0b-34d6-43d0-ad5e-b1cbed18e91a",
   "metadata": {},
   "source": [
    "5. Status - Interesting variable as it is either na or ready to remove, so I changed all ready to move to 1 and others 0\n",
    "   => Probably can abandon this information"
   ]
  },
  {
   "cell_type": "code",
   "execution_count": 40,
   "id": "249ff331-434d-4d28-999f-ac0981160efa",
   "metadata": {},
   "outputs": [],
   "source": [
    "housing['Status'] = housing['Status'].apply(lambda x: 1 if x == 'Ready to Move' else 0)"
   ]
  },
  {
   "cell_type": "code",
   "execution_count": 41,
   "id": "003a2bf1-863c-485a-b844-4307edd8c1ec",
   "metadata": {},
   "outputs": [
    {
     "data": {
      "text/plain": [
       "0         1\n",
       "1         1\n",
       "2         1\n",
       "3         1\n",
       "4         1\n",
       "         ..\n",
       "187526    1\n",
       "187527    1\n",
       "187528    1\n",
       "187529    1\n",
       "187530    1\n",
       "Name: Status, Length: 187531, dtype: int64"
      ]
     },
     "execution_count": 41,
     "metadata": {},
     "output_type": "execute_result"
    }
   ],
   "source": [
    "housing['Status']"
   ]
  },
  {
   "cell_type": "markdown",
   "id": "f82e6286-3975-4e4a-b071-13ab9ef1c648",
   "metadata": {},
   "source": [
    "6. Floor - pick out the floor and set another column of highest level"
   ]
  },
  {
   "cell_type": "code",
   "execution_count": 42,
   "id": "420625d9-eb85-4b23-adcb-cb87ba042bb2",
   "metadata": {},
   "outputs": [
    {
     "data": {
      "text/plain": [
       "0         10 out of 11\n",
       "1          3 out of 22\n",
       "2         10 out of 29\n",
       "3           1 out of 3\n",
       "4         20 out of 42\n",
       "              ...     \n",
       "187526      2 out of 4\n",
       "187527      4 out of 6\n",
       "187528      1 out of 3\n",
       "187529      2 out of 2\n",
       "187530     5 out of 13\n",
       "Name: Floor, Length: 187531, dtype: object"
      ]
     },
     "execution_count": 42,
     "metadata": {},
     "output_type": "execute_result"
    }
   ],
   "source": [
    "housing['Floor']"
   ]
  },
  {
   "cell_type": "code",
   "execution_count": 43,
   "id": "ff0d3c65-3975-4725-9bf9-372e27590258",
   "metadata": {},
   "outputs": [
    {
     "data": {
      "text/plain": [
       "0         11\n",
       "1         22\n",
       "2         29\n",
       "4         42\n",
       "6          5\n",
       "          ..\n",
       "187522     3\n",
       "187523    10\n",
       "187524     8\n",
       "187525     3\n",
       "187528     3\n",
       "Name: Total Floors, Length: 82261, dtype: int64"
      ]
     },
     "execution_count": 43,
     "metadata": {},
     "output_type": "execute_result"
    }
   ],
   "source": [
    "\n",
    "# Split the 'Floor' column\n",
    "housing[['Current Floor', 'Total Floors']] = housing['Floor'].str.split(' out of ', expand=True)\n",
    "\n",
    "# Handle non-numeric values by using pd.to_numeric with errors='coerce'\n",
    "housing['Current Floor'] = pd.to_numeric(housing['Current Floor'], errors='coerce')\n",
    "housing['Total Floors'] = pd.to_numeric(housing['Total Floors'], errors='coerce')\n",
    "\n",
    "# Optionally, you can fill NaN values or drop rows with them\n",
    "housing.dropna(inplace=True)  # Drops rows with NaN values\n",
    "\n",
    "# Convert to integers after handling NaNs\n",
    "housing['Current Floor'] = housing['Current Floor'].astype(int)\n",
    "housing['Total Floors'] = housing['Total Floors'].astype(int)\n",
    "\n",
    "# Optionally, drop the original 'Floor' column\n",
    "housing.drop(columns=['Floor'], inplace=True)\n",
    "\n",
    "housing['Total Floors']"
   ]
  },
  {
   "cell_type": "markdown",
   "id": "beddf5fa-22cd-408f-a95f-f77984654ad9",
   "metadata": {},
   "source": [
    "7. Transaction - Change to Categorical Variable"
   ]
  },
  {
   "cell_type": "code",
   "execution_count": 44,
   "id": "109941f4-1a9b-413c-8455-d45237af98f3",
   "metadata": {},
   "outputs": [
    {
     "data": {
      "text/plain": [
       "0               Resale\n",
       "1               Resale\n",
       "2               Resale\n",
       "4               Resale\n",
       "6               Resale\n",
       "              ...     \n",
       "187522          Resale\n",
       "187523          Resale\n",
       "187524          Resale\n",
       "187525    New Property\n",
       "187528          Resale\n",
       "Name: Transaction, Length: 82261, dtype: category\n",
       "Categories (4, object): ['New Property', 'Other', 'Rent/Lease', 'Resale']"
      ]
     },
     "execution_count": 44,
     "metadata": {},
     "output_type": "execute_result"
    }
   ],
   "source": [
    "housing['Transaction'].replace('', np.nan, inplace=True)\n",
    "housing['Transaction'] = pd.Categorical(housing['Transaction'])\n",
    "housing['Transaction']"
   ]
  },
  {
   "cell_type": "code",
   "execution_count": 45,
   "id": "4dbb20b1-1a49-46bc-8b0e-4b2f93a903d3",
   "metadata": {},
   "outputs": [
    {
     "data": {
      "text/plain": [
       "3"
      ]
     },
     "execution_count": 45,
     "metadata": {},
     "output_type": "execute_result"
    }
   ],
   "source": [
    "housing['Transaction'].isna().sum()"
   ]
  },
  {
   "cell_type": "markdown",
   "id": "942bdc6e-ff50-4044-ad8a-cb9e43034b3a",
   "metadata": {},
   "source": [
    "8. Furnishing - Change to categorical variable"
   ]
  },
  {
   "cell_type": "code",
   "execution_count": 46,
   "id": "cb195977-69e5-4d3a-addd-43e7a486e6f2",
   "metadata": {},
   "outputs": [
    {
     "name": "stdout",
     "output_type": "stream",
     "text": [
      "0            Unfurnished\n",
      "1         Semi-Furnished\n",
      "2            Unfurnished\n",
      "4            Unfurnished\n",
      "6            Unfurnished\n",
      "               ...      \n",
      "187522    Semi-Furnished\n",
      "187523    Semi-Furnished\n",
      "187524    Semi-Furnished\n",
      "187525       Unfurnished\n",
      "187528         Furnished\n",
      "Name: Furnishing, Length: 82261, dtype: category\n",
      "Categories (3, object): ['Furnished', 'Semi-Furnished', 'Unfurnished']\n",
      "19\n"
     ]
    }
   ],
   "source": [
    "housing['Furnishing'].replace('', np.nan, inplace=True)\n",
    "housing[\"Furnishing\"] = pd.Categorical(housing[\"Furnishing\"])\n",
    "print(housing[\"Furnishing\"])\n",
    "print(housing['Furnishing'].isna().sum())"
   ]
  },
  {
   "cell_type": "markdown",
   "id": "856e58bc-d6ad-4d46-84e0-9b10ffaa6f17",
   "metadata": {},
   "source": [
    "9. Facing"
   ]
  },
  {
   "cell_type": "code",
   "execution_count": 47,
   "id": "a225e88a-5e1a-46b9-8080-0bb569b5faa9",
   "metadata": {},
   "outputs": [
    {
     "name": "stdout",
     "output_type": "stream",
     "text": [
      "0                  NaN\n",
      "1                 East\n",
      "2                 East\n",
      "4                 West\n",
      "6                  NaN\n",
      "              ...     \n",
      "187522            East\n",
      "187523    North - East\n",
      "187524    North - East\n",
      "187525    North - East\n",
      "187528            East\n",
      "Name: facing, Length: 82261, dtype: category\n",
      "Categories (8, object): ['East', 'North', 'North - East', 'North - West', 'South', 'South - East', 'South -West', 'West']\n",
      "13167\n"
     ]
    }
   ],
   "source": [
    "housing['facing'].replace('', np.nan, inplace=True)\n",
    "\n",
    "housing[\"facing\"] = pd.Categorical(housing[\"facing\"])\n",
    "housing[\"facing\"]\n",
    "print(housing[\"facing\"])\n",
    "print(housing['facing'].isna().sum())"
   ]
  },
  {
   "cell_type": "markdown",
   "id": "15ea9d4a-9971-4913-8ef2-a9c72ed9cfa1",
   "metadata": {},
   "source": [
    "10. overlooking - Change to categorical variable and identify certain patterns"
   ]
  },
  {
   "cell_type": "code",
   "execution_count": 22,
   "id": "bafa413b-2915-4d75-a835-18e343535588",
   "metadata": {},
   "outputs": [
    {
     "name": "stdout",
     "output_type": "stream",
     "text": [
      "0                                  NaN\n",
      "1                          Garden/Park\n",
      "2                          Garden/Park\n",
      "4               Garden/Park, Main Road\n",
      "6                                  NaN\n",
      "                      ...             \n",
      "187522                     Garden/Park\n",
      "187523    Garden/Park, Pool, Main Road\n",
      "187524    Garden/Park, Pool, Main Road\n",
      "187525          Garden/Park, Main Road\n",
      "187528          Garden/Park, Main Road\n",
      "Name: overlooking, Length: 82261, dtype: category\n",
      "Categories (17, object): ['Garden/Park', 'Garden/Park, Main Road', 'Garden/Park, Main Road, Pool', 'Garden/Park, Not Available', ..., 'Pool, Garden/Park', 'Pool, Garden/Park, Main Road', 'Pool, Main Road', 'Pool, Main Road, Garden/Park']\n",
      "18841\n"
     ]
    }
   ],
   "source": [
    "housing['overlooking'].replace('', np.nan, inplace=True)\n",
    "\n",
    "housing[\"overlooking\"] = pd.Categorical(housing[\"overlooking\"])\n",
    "print(housing[\"overlooking\"])\n",
    "print(housing['overlooking'].isna().sum())"
   ]
  },
  {
   "cell_type": "code",
   "execution_count": 23,
   "id": "e03ea55e-1c87-4a3e-903f-fe5c13368a45",
   "metadata": {},
   "outputs": [
    {
     "name": "stdout",
     "output_type": "stream",
     "text": [
      "[nan, 'Garden/Park', 'Garden/Park, Main Road', 'Main Road', 'Pool, Garden/Park, Main Road', 'Garden/Park, Pool, Main Road', 'Garden/Park, Pool', 'Main Road, Garden/Park, Pool', 'Pool, Garden/Park', 'Main Road, Garden/Park', 'Garden/Park, Main Road, Pool', 'Pool', 'Pool, Main Road', 'Main Road, Pool, Garden/Park', 'Pool, Main Road, Garden/Park', 'Main Road, Not Available', 'Main Road, Pool', 'Garden/Park, Not Available']\n"
     ]
    }
   ],
   "source": [
    "# Get all unique values\n",
    "unique_values = housing['overlooking'].unique()\n",
    "\n",
    "# Convert to a list to avoid truncation\n",
    "unique_values_list = unique_values.tolist()\n",
    "print(unique_values_list)"
   ]
  },
  {
   "cell_type": "code",
   "execution_count": 24,
   "id": "d4b99230-15cb-4f38-8d33-f091a48262d5",
   "metadata": {},
   "outputs": [
    {
     "name": "stdout",
     "output_type": "stream",
     "text": [
      "0         0\n",
      "1         1\n",
      "2         1\n",
      "4         1\n",
      "6         0\n",
      "         ..\n",
      "187522    1\n",
      "187523    1\n",
      "187524    1\n",
      "187525    1\n",
      "187528    1\n",
      "Name: Garden/Park, Length: 82261, dtype: int64\n"
     ]
    }
   ],
   "source": [
    "# Replace empty strings and \"Not Available\" with 0\n",
    "housing['overlooking'] = housing['overlooking'].replace({'': 0, 'Not Available': 0})\n",
    "\n",
    "# Create binary indicator columns for each category\n",
    "categories = ['Garden/Park', 'Main Road', 'Pool']\n",
    "\n",
    "for category in categories:\n",
    "    housing[category] = housing['overlooking'].str.contains(category, case=False, na=False).astype(int)\n",
    "\n",
    "# Display the updated DataFrame (example: Garden)\n",
    "print(housing['Garden/Park'])"
   ]
  },
  {
   "cell_type": "markdown",
   "id": "20cff21e-1f7b-4343-b77d-1b0a12f21c7b",
   "metadata": {},
   "source": [
    "11. Bathroom"
   ]
  },
  {
   "cell_type": "code",
   "execution_count": 27,
   "id": "0a353264-e006-409f-976c-850f2813ae8f",
   "metadata": {},
   "outputs": [
    {
     "data": {
      "image/png": "[encoded data removed]",
      "text/plain": [
       "<Figure size 1000x600 with 1 Axes>"
      ]
     },
     "metadata": {},
     "output_type": "display_data"
    }
   ],
   "source": [
    "# Replace '> 10' with a numeric value (or keep it as is if you want to count it)\n",
    "housing['Bathroom'].replace('', np.nan, inplace=True)\n",
    "\n",
    "housing_copy['Bathroom'] = housing_copy['Bathroom'].replace({'> 10': '11'})\n",
    "\n",
    "# Count occurrences of each category\n",
    "bathroom_counts = housing_copy['Bathroom'].value_counts()\n",
    "\n",
    "# Create a bar plot\n",
    "plt.figure(figsize=(10, 6))\n",
    "sns.barplot(x=bathroom_counts.index, y=bathroom_counts.values, palette='viridis')\n",
    "plt.title('Frequency of Each Bathroom Category')\n",
    "plt.xlabel('Number of Bathrooms')\n",
    "plt.ylabel('Frequency')\n",
    "plt.xticks(rotation=45)\n",
    "plt.show()"
   ]
  },
  {
   "cell_type": "code",
   "execution_count": 50,
   "id": "672f2eca-75b6-487d-a17c-3808e4fd985d",
   "metadata": {},
   "outputs": [
    {
     "ename": "ValueError",
     "evalue": "invalid literal for int() with base 10: ''",
     "output_type": "error",
     "traceback": [
      "\u001b[0;31m---------------------------------------------------------------------------\u001b[0m",
      "\u001b[0;31mValueError\u001b[0m                                Traceback (most recent call last)",
      "Cell \u001b[0;32mIn[50], line 4\u001b[0m\n\u001b[1;32m      1\u001b[0m \u001b[38;5;66;03m# Replace '> 10' and any value greater than 4 with '>= 5'\u001b[39;00m\n\u001b[1;32m      3\u001b[0m housing[\u001b[38;5;124m'\u001b[39m\u001b[38;5;124mBathroom\u001b[39m\u001b[38;5;124m'\u001b[39m] \u001b[38;5;241m=\u001b[39m housing[\u001b[38;5;124m'\u001b[39m\u001b[38;5;124mBathroom\u001b[39m\u001b[38;5;124m'\u001b[39m]\u001b[38;5;241m.\u001b[39mreplace({\u001b[38;5;124m'\u001b[39m\u001b[38;5;124m11\u001b[39m\u001b[38;5;124m'\u001b[39m: \u001b[38;5;124m'\u001b[39m\u001b[38;5;124m>= 5\u001b[39m\u001b[38;5;124m'\u001b[39m})\n\u001b[0;32m----> 4\u001b[0m housing[\u001b[38;5;124m'\u001b[39m\u001b[38;5;124mBathroom\u001b[39m\u001b[38;5;124m'\u001b[39m] \u001b[38;5;241m=\u001b[39m housing[\u001b[38;5;124m'\u001b[39m\u001b[38;5;124mBathroom\u001b[39m\u001b[38;5;124m'\u001b[39m]\u001b[38;5;241m.\u001b[39mastype(\u001b[38;5;28mint\u001b[39m)  \u001b[38;5;66;03m# Convert to numeric for comparison\u001b[39;00m\n\u001b[1;32m      6\u001b[0m \u001b[38;5;66;03m# Categorize the bathrooms\u001b[39;00m\n\u001b[1;32m      7\u001b[0m housing[\u001b[38;5;124m'\u001b[39m\u001b[38;5;124mBathroom\u001b[39m\u001b[38;5;124m'\u001b[39m] \u001b[38;5;241m=\u001b[39m pd\u001b[38;5;241m.\u001b[39mcut(housing[\u001b[38;5;124m'\u001b[39m\u001b[38;5;124mBathroom\u001b[39m\u001b[38;5;124m'\u001b[39m], \n\u001b[1;32m      8\u001b[0m                               bins\u001b[38;5;241m=\u001b[39m[\u001b[38;5;241m0\u001b[39m, \u001b[38;5;241m1\u001b[39m, \u001b[38;5;241m2\u001b[39m, \u001b[38;5;241m3\u001b[39m, \u001b[38;5;241m4\u001b[39m, \u001b[38;5;28mfloat\u001b[39m(\u001b[38;5;124m'\u001b[39m\u001b[38;5;124minf\u001b[39m\u001b[38;5;124m'\u001b[39m)], \n\u001b[1;32m      9\u001b[0m                               labels\u001b[38;5;241m=\u001b[39m[\u001b[38;5;124m'\u001b[39m\u001b[38;5;124m1\u001b[39m\u001b[38;5;124m'\u001b[39m, \u001b[38;5;124m'\u001b[39m\u001b[38;5;124m2\u001b[39m\u001b[38;5;124m'\u001b[39m, \u001b[38;5;124m'\u001b[39m\u001b[38;5;124m3\u001b[39m\u001b[38;5;124m'\u001b[39m, \u001b[38;5;124m'\u001b[39m\u001b[38;5;124m4\u001b[39m\u001b[38;5;124m'\u001b[39m, \u001b[38;5;124m'\u001b[39m\u001b[38;5;124m>= 5\u001b[39m\u001b[38;5;124m'\u001b[39m], \n\u001b[1;32m     10\u001b[0m                               right\u001b[38;5;241m=\u001b[39m\u001b[38;5;28;01mTrue\u001b[39;00m)\n",
      "File \u001b[0;32m/opt/anaconda3/lib/python3.11/site-packages/pandas/core/generic.py:6534\u001b[0m, in \u001b[0;36mNDFrame.astype\u001b[0;34m(self, dtype, copy, errors)\u001b[0m\n\u001b[1;32m   6530\u001b[0m     results \u001b[38;5;241m=\u001b[39m [ser\u001b[38;5;241m.\u001b[39mastype(dtype, copy\u001b[38;5;241m=\u001b[39mcopy) \u001b[38;5;28;01mfor\u001b[39;00m _, ser \u001b[38;5;129;01min\u001b[39;00m \u001b[38;5;28mself\u001b[39m\u001b[38;5;241m.\u001b[39mitems()]\n\u001b[1;32m   6532\u001b[0m \u001b[38;5;28;01melse\u001b[39;00m:\n\u001b[1;32m   6533\u001b[0m     \u001b[38;5;66;03m# else, only a single dtype is given\u001b[39;00m\n\u001b[0;32m-> 6534\u001b[0m     new_data \u001b[38;5;241m=\u001b[39m \u001b[38;5;28mself\u001b[39m\u001b[38;5;241m.\u001b[39m_mgr\u001b[38;5;241m.\u001b[39mastype(dtype\u001b[38;5;241m=\u001b[39mdtype, copy\u001b[38;5;241m=\u001b[39mcopy, errors\u001b[38;5;241m=\u001b[39merrors)\n\u001b[1;32m   6535\u001b[0m     res \u001b[38;5;241m=\u001b[39m \u001b[38;5;28mself\u001b[39m\u001b[38;5;241m.\u001b[39m_constructor_from_mgr(new_data, axes\u001b[38;5;241m=\u001b[39mnew_data\u001b[38;5;241m.\u001b[39maxes)\n\u001b[1;32m   6536\u001b[0m     \u001b[38;5;28;01mreturn\u001b[39;00m res\u001b[38;5;241m.\u001b[39m__finalize__(\u001b[38;5;28mself\u001b[39m, method\u001b[38;5;241m=\u001b[39m\u001b[38;5;124m\"\u001b[39m\u001b[38;5;124mastype\u001b[39m\u001b[38;5;124m\"\u001b[39m)\n",
      "File \u001b[0;32m/opt/anaconda3/lib/python3.11/site-packages/pandas/core/internals/managers.py:414\u001b[0m, in \u001b[0;36mBaseBlockManager.astype\u001b[0;34m(self, dtype, copy, errors)\u001b[0m\n\u001b[1;32m    411\u001b[0m \u001b[38;5;28;01melif\u001b[39;00m using_copy_on_write():\n\u001b[1;32m    412\u001b[0m     copy \u001b[38;5;241m=\u001b[39m \u001b[38;5;28;01mFalse\u001b[39;00m\n\u001b[0;32m--> 414\u001b[0m \u001b[38;5;28;01mreturn\u001b[39;00m \u001b[38;5;28mself\u001b[39m\u001b[38;5;241m.\u001b[39mapply(\n\u001b[1;32m    415\u001b[0m     \u001b[38;5;124m\"\u001b[39m\u001b[38;5;124mastype\u001b[39m\u001b[38;5;124m\"\u001b[39m,\n\u001b[1;32m    416\u001b[0m     dtype\u001b[38;5;241m=\u001b[39mdtype,\n\u001b[1;32m    417\u001b[0m     copy\u001b[38;5;241m=\u001b[39mcopy,\n\u001b[1;32m    418\u001b[0m     errors\u001b[38;5;241m=\u001b[39merrors,\n\u001b[1;32m    419\u001b[0m     using_cow\u001b[38;5;241m=\u001b[39musing_copy_on_write(),\n\u001b[1;32m    420\u001b[0m )\n",
      "File \u001b[0;32m/opt/anaconda3/lib/python3.11/site-packages/pandas/core/internals/managers.py:354\u001b[0m, in \u001b[0;36mBaseBlockManager.apply\u001b[0;34m(self, f, align_keys, **kwargs)\u001b[0m\n\u001b[1;32m    352\u001b[0m         applied \u001b[38;5;241m=\u001b[39m b\u001b[38;5;241m.\u001b[39mapply(f, \u001b[38;5;241m*\u001b[39m\u001b[38;5;241m*\u001b[39mkwargs)\n\u001b[1;32m    353\u001b[0m     \u001b[38;5;28;01melse\u001b[39;00m:\n\u001b[0;32m--> 354\u001b[0m         applied \u001b[38;5;241m=\u001b[39m \u001b[38;5;28mgetattr\u001b[39m(b, f)(\u001b[38;5;241m*\u001b[39m\u001b[38;5;241m*\u001b[39mkwargs)\n\u001b[1;32m    355\u001b[0m     result_blocks \u001b[38;5;241m=\u001b[39m extend_blocks(applied, result_blocks)\n\u001b[1;32m    357\u001b[0m out \u001b[38;5;241m=\u001b[39m \u001b[38;5;28mtype\u001b[39m(\u001b[38;5;28mself\u001b[39m)\u001b[38;5;241m.\u001b[39mfrom_blocks(result_blocks, \u001b[38;5;28mself\u001b[39m\u001b[38;5;241m.\u001b[39maxes)\n",
      "File \u001b[0;32m/opt/anaconda3/lib/python3.11/site-packages/pandas/core/internals/blocks.py:616\u001b[0m, in \u001b[0;36mBlock.astype\u001b[0;34m(self, dtype, copy, errors, using_cow)\u001b[0m\n\u001b[1;32m    596\u001b[0m \u001b[38;5;250m\u001b[39m\u001b[38;5;124;03m\"\"\"\u001b[39;00m\n\u001b[1;32m    597\u001b[0m \u001b[38;5;124;03mCoerce to the new dtype.\u001b[39;00m\n\u001b[1;32m    598\u001b[0m \n\u001b[0;32m   (...)\u001b[0m\n\u001b[1;32m    612\u001b[0m \u001b[38;5;124;03mBlock\u001b[39;00m\n\u001b[1;32m    613\u001b[0m \u001b[38;5;124;03m\"\"\"\u001b[39;00m\n\u001b[1;32m    614\u001b[0m values \u001b[38;5;241m=\u001b[39m \u001b[38;5;28mself\u001b[39m\u001b[38;5;241m.\u001b[39mvalues\n\u001b[0;32m--> 616\u001b[0m new_values \u001b[38;5;241m=\u001b[39m astype_array_safe(values, dtype, copy\u001b[38;5;241m=\u001b[39mcopy, errors\u001b[38;5;241m=\u001b[39merrors)\n\u001b[1;32m    618\u001b[0m new_values \u001b[38;5;241m=\u001b[39m maybe_coerce_values(new_values)\n\u001b[1;32m    620\u001b[0m refs \u001b[38;5;241m=\u001b[39m \u001b[38;5;28;01mNone\u001b[39;00m\n",
      "File \u001b[0;32m/opt/anaconda3/lib/python3.11/site-packages/pandas/core/dtypes/astype.py:238\u001b[0m, in \u001b[0;36mastype_array_safe\u001b[0;34m(values, dtype, copy, errors)\u001b[0m\n\u001b[1;32m    235\u001b[0m     dtype \u001b[38;5;241m=\u001b[39m dtype\u001b[38;5;241m.\u001b[39mnumpy_dtype\n\u001b[1;32m    237\u001b[0m \u001b[38;5;28;01mtry\u001b[39;00m:\n\u001b[0;32m--> 238\u001b[0m     new_values \u001b[38;5;241m=\u001b[39m astype_array(values, dtype, copy\u001b[38;5;241m=\u001b[39mcopy)\n\u001b[1;32m    239\u001b[0m \u001b[38;5;28;01mexcept\u001b[39;00m (\u001b[38;5;167;01mValueError\u001b[39;00m, \u001b[38;5;167;01mTypeError\u001b[39;00m):\n\u001b[1;32m    240\u001b[0m     \u001b[38;5;66;03m# e.g. _astype_nansafe can fail on object-dtype of strings\u001b[39;00m\n\u001b[1;32m    241\u001b[0m     \u001b[38;5;66;03m#  trying to convert to float\u001b[39;00m\n\u001b[1;32m    242\u001b[0m     \u001b[38;5;28;01mif\u001b[39;00m errors \u001b[38;5;241m==\u001b[39m \u001b[38;5;124m\"\u001b[39m\u001b[38;5;124mignore\u001b[39m\u001b[38;5;124m\"\u001b[39m:\n",
      "File \u001b[0;32m/opt/anaconda3/lib/python3.11/site-packages/pandas/core/dtypes/astype.py:183\u001b[0m, in \u001b[0;36mastype_array\u001b[0;34m(values, dtype, copy)\u001b[0m\n\u001b[1;32m    180\u001b[0m     values \u001b[38;5;241m=\u001b[39m values\u001b[38;5;241m.\u001b[39mastype(dtype, copy\u001b[38;5;241m=\u001b[39mcopy)\n\u001b[1;32m    182\u001b[0m \u001b[38;5;28;01melse\u001b[39;00m:\n\u001b[0;32m--> 183\u001b[0m     values \u001b[38;5;241m=\u001b[39m _astype_nansafe(values, dtype, copy\u001b[38;5;241m=\u001b[39mcopy)\n\u001b[1;32m    185\u001b[0m \u001b[38;5;66;03m# in pandas we don't store numpy str dtypes, so convert to object\u001b[39;00m\n\u001b[1;32m    186\u001b[0m \u001b[38;5;28;01mif\u001b[39;00m \u001b[38;5;28misinstance\u001b[39m(dtype, np\u001b[38;5;241m.\u001b[39mdtype) \u001b[38;5;129;01mand\u001b[39;00m \u001b[38;5;28missubclass\u001b[39m(values\u001b[38;5;241m.\u001b[39mdtype\u001b[38;5;241m.\u001b[39mtype, \u001b[38;5;28mstr\u001b[39m):\n",
      "File \u001b[0;32m/opt/anaconda3/lib/python3.11/site-packages/pandas/core/dtypes/astype.py:134\u001b[0m, in \u001b[0;36m_astype_nansafe\u001b[0;34m(arr, dtype, copy, skipna)\u001b[0m\n\u001b[1;32m    130\u001b[0m     \u001b[38;5;28;01mraise\u001b[39;00m \u001b[38;5;167;01mValueError\u001b[39;00m(msg)\n\u001b[1;32m    132\u001b[0m \u001b[38;5;28;01mif\u001b[39;00m copy \u001b[38;5;129;01mor\u001b[39;00m arr\u001b[38;5;241m.\u001b[39mdtype \u001b[38;5;241m==\u001b[39m \u001b[38;5;28mobject\u001b[39m \u001b[38;5;129;01mor\u001b[39;00m dtype \u001b[38;5;241m==\u001b[39m \u001b[38;5;28mobject\u001b[39m:\n\u001b[1;32m    133\u001b[0m     \u001b[38;5;66;03m# Explicit copy, or required since NumPy can't view from / to object.\u001b[39;00m\n\u001b[0;32m--> 134\u001b[0m     \u001b[38;5;28;01mreturn\u001b[39;00m arr\u001b[38;5;241m.\u001b[39mastype(dtype, copy\u001b[38;5;241m=\u001b[39m\u001b[38;5;28;01mTrue\u001b[39;00m)\n\u001b[1;32m    136\u001b[0m \u001b[38;5;28;01mreturn\u001b[39;00m arr\u001b[38;5;241m.\u001b[39mastype(dtype, copy\u001b[38;5;241m=\u001b[39mcopy)\n",
      "\u001b[0;31mValueError\u001b[0m: invalid literal for int() with base 10: ''"
     ]
    }
   ],
   "source": [
    "# Replace '> 10' and any value greater than 4 with '>= 5'\n",
    "\n",
    "housing['Bathroom'] = housing['Bathroom'].replace({'11': '>= 5'})\n",
    "housing['Bathroom'] = housing['Bathroom'].astype(int)  # Convert to numeric for comparison\n",
    "\n",
    "# Categorize the bathrooms\n",
    "housing['Bathroom'] = pd.cut(housing['Bathroom'], \n",
    "                              bins=[0, 1, 2, 3, 4, float('inf')], \n",
    "                              labels=['1', '2', '3', '4', '>= 5'], \n",
    "                              right=True)\n",
    "\n",
    "# Convert to categorical type\n",
    "housing['Bathroom'] = pd.Categorical(housing['Bathroom'])\n",
    "\n",
    "housing['Bathroom']"
   ]
  },
  {
   "cell_type": "markdown",
   "id": "ae41a739-71fc-425f-8a88-7f1e1b5499e9",
   "metadata": {},
   "source": [
    "12. Balcony - change to categorical variables (lots of NA)"
   ]
  },
  {
   "cell_type": "code",
   "execution_count": 23,
   "id": "9285ee05-0cf5-4c75-9449-018b95b854ca",
   "metadata": {},
   "outputs": [
    {
     "data": {
      "image/png": "[encoded data removed]",
      "text/plain": [
       "<Figure size 1000x600 with 1 Axes>"
      ]
     },
     "metadata": {},
     "output_type": "display_data"
    }
   ],
   "source": [
    "# Replace '> 10' with a numeric value (or keep it as is if you want to count it)\n",
    "housing['Balcony'].replace('', np.nan, inplace=True)\n",
    "\n",
    "housing['Balcony'] = housing['Balcony'].replace({'> 10': '11'})\n",
    "\n",
    "# Count occurrences of each category\n",
    "bathroom_counts = housing['Balcony'].value_counts()\n",
    "\n",
    "# Create a bar plot\n",
    "plt.figure(figsize=(10, 6))\n",
    "sns.barplot(x=bathroom_counts.index, y=bathroom_counts.values, palette='viridis')\n",
    "plt.title('Frequency of Each Balcony Category')\n",
    "plt.xlabel('Number of Balcony')\n",
    "plt.ylabel('Frequency')\n",
    "plt.xticks(rotation=45)\n",
    "plt.show()"
   ]
  },
  {
   "cell_type": "code",
   "execution_count": 24,
   "id": "da1f72a3-32f9-4d83-b9e8-1b305fcd648f",
   "metadata": {},
   "outputs": [
    {
     "name": "stdout",
     "output_type": "stream",
     "text": [
      "0           2\n",
      "1         NaN\n",
      "2         NaN\n",
      "4         NaN\n",
      "6         NaN\n",
      "         ... \n",
      "187522      3\n",
      "187523      3\n",
      "187524      2\n",
      "187525      2\n",
      "187528      2\n",
      "Name: Balcony, Length: 82261, dtype: category\n",
      "Categories (5, object): ['1' < '2' < '3' < '4' < '>= 5']\n"
     ]
    }
   ],
   "source": [
    "# Replace '> 10' with '>= 5' and handle empty strings and other non-numeric values\n",
    "housing['Balcony'] = housing['Balcony'].replace({'> 10': '>= 5', '': None, 'Not Available': None})\n",
    "\n",
    "# Convert to numeric, coercing errors to NaN\n",
    "housing['Balcony'] = pd.to_numeric(housing['Balcony'], errors='coerce')\n",
    "\n",
    "# Categorize the balconies, including handling NaN values\n",
    "housing['Balcony'] = pd.cut(housing['Balcony'], \n",
    "                             bins=[0, 1, 2, 3, 4, float('inf')], \n",
    "                             labels=['1', '2', '3', '4', '>= 5'], \n",
    "                             right=True)\n",
    "\n",
    "# Convert to categorical type\n",
    "housing['Balcony'] = pd.Categorical(housing['Balcony'])\n",
    "\n",
    "# Display the updated DataFrame\n",
    "print(housing['Balcony'])"
   ]
  },
  {
   "cell_type": "markdown",
   "id": "837d2f95-f121-4c14-bdfe-ca9ac76925fc",
   "metadata": {},
   "source": [
    "13. Car Parking - Probably change to categorical column (1 for have parking and covered, 2 for have parking but open, and 0 for no parking)"
   ]
  },
  {
   "cell_type": "code",
   "execution_count": 26,
   "id": "5a653e4a-d930-4c2a-a4e1-2b3c6140e836",
   "metadata": {},
   "outputs": [
    {
     "data": {
      "text/plain": [
       "array(['', '1 Open', '1 Covered', '2 Covered', '66 Covered',\n",
       "       '701 Covered', '3 Covered', '1 Covered,', '323 Covered',\n",
       "       '11 Covered', '103 Open', '203 Covered', '2 Open', '180 Covered',\n",
       "       '101 Covered', '4 Covered', '123 Covered', '505 Covered',\n",
       "       '402 Covered', '6 Covered', '5 Covered', '2 Covered,',\n",
       "       '3 Covered,', '202 Covered', '20 Covered,', '503 Open', '3 Open',\n",
       "       '4 Covered,', '147 Covered', '310 Covered', '401 Covered',\n",
       "       '302 Covered', '442 Covered', '201 Covered,', '8 Open',\n",
       "       '112 Covered', '706 Covered', '107 Covered', '250 Covered',\n",
       "       '4 Open', '217 Covered', '12 Covered', '536 Covered', '53 Open',\n",
       "       '6 Covered,', '12 Open', '20 Open', '89 Open', '604 Covered',\n",
       "       '87 Covered', '903 Covered', '704 Covered', '30 Covered,',\n",
       "       '39 Covered', '34 Covered', '8 Covered', '305 Covered',\n",
       "       '103 Covered', '406 Open', '129 Open', '201 Covered', '15 Covered',\n",
       "       '100 Covered', '324 Covered', '300 Covered', '21 Covered,',\n",
       "       '24 Covered', '118 Open', '818 Open', '10 Covered', '113 Open',\n",
       "       '411 Covered', '9 Covered', '999 Covered', '35 Open', '10 Open',\n",
       "       '118 Covered', '571 Open', '253 Covered', '212 Open',\n",
       "       '204 Covered', '259 Covered', '210 Open', '102 Covered',\n",
       "       '5 Covered,', '20 Covered', '703 Covered', '507 Covered',\n",
       "       '605 Covered', '151 Open', '301 Covered', '30 Covered', '5 Open',\n",
       "       '16 Covered,', '7 Covered', '102 Open', '7 Covered,', '45 Open',\n",
       "       '30 Open', '200 Open', '47 Open', '78 Covered', '109 Covered',\n",
       "       '222 Covered', '23 Open', '303 Covered', '18 Covered',\n",
       "       '156 Covered', '50 Open', '45 Covered', '23 Covered',\n",
       "       '13 Covered,', '27 Covered,', '6 Open', '506 Covered',\n",
       "       '129 Covered', '59 Covered', '17 Covered', '13 Open',\n",
       "       '901 Covered', '14 Covered', '60 Covered', '601 Covered',\n",
       "       '38 Covered', '90 Covered,', '604 Open', '801 Covered', '18 Open',\n",
       "       '110 Open', '302 Open', '174 Open', '80 Covered', '408 Covered',\n",
       "       '40 Covered,', '305 Open', '233 Open', '13 Covered', '111 Covered',\n",
       "       '35 Covered', '406 Covered', '48 Covered', '16 Covered',\n",
       "       '10 Covered,', '100 Open', '70 Open', '31 Covered', '110 Covered',\n",
       "       '404 Covered', '303 Open', '101 Open', '416 Covered',\n",
       "       '205 Covered', '300 Open', '11 Covered,'], dtype=object)"
      ]
     },
     "execution_count": 26,
     "metadata": {},
     "output_type": "execute_result"
    }
   ],
   "source": [
    "housing['Car Parking'].unique()"
   ]
  },
  {
   "cell_type": "markdown",
   "id": "75558b98-c77f-4eba-9d2b-0daee237d8e9",
   "metadata": {},
   "source": [
    "Feel like this should have some special operations"
   ]
  },
  {
   "cell_type": "markdown",
   "id": "69f2f48c-82cf-496d-8ce5-af52dabb55f4",
   "metadata": {},
   "source": [
    "14. Ownership"
   ]
  },
  {
   "cell_type": "code",
   "execution_count": 27,
   "id": "05db06ce-ffc3-4015-b89d-47edc4b9ca32",
   "metadata": {},
   "outputs": [
    {
     "name": "stdout",
     "output_type": "stream",
     "text": [
      "Number of NaN values in 'Ownership': 13129\n"
     ]
    }
   ],
   "source": [
    "# Replace empty strings with NaN\n",
    "housing['Ownership'].replace('', np.nan, inplace=True)\n",
    "\n",
    "# Count the number of NaN values in the 'Ownership' column\n",
    "na_count = housing['Ownership'].isna().sum()\n",
    "\n",
    "# Print the count of NaN values\n",
    "print(f\"Number of NaN values in 'Ownership': {na_count}\")\n",
    "\n",
    "# Convert the 'Ownership' column to a categorical type, keeping NaN values\n",
    "housing['Ownership'] = pd.Categorical(housing['Ownership'])\n"
   ]
  },
  {
   "cell_type": "code",
   "execution_count": 28,
   "id": "1985a942-c0e1-4954-b733-2ffaa86efc4c",
   "metadata": {},
   "outputs": [
    {
     "name": "stdout",
     "output_type": "stream",
     "text": [
      "0                          NaN\n",
      "1                     Freehold\n",
      "2                     Freehold\n",
      "4         Co-operative Society\n",
      "6                          NaN\n",
      "                  ...         \n",
      "187522                Freehold\n",
      "187523                Freehold\n",
      "187524                Freehold\n",
      "187525                Freehold\n",
      "187528                Freehold\n",
      "Name: Ownership, Length: 82261, dtype: category\n",
      "Categories (4, object): ['Co-operative Society', 'Freehold', 'Leasehold', 'Power Of Attorney']\n"
     ]
    }
   ],
   "source": [
    "print(housing['Ownership'])"
   ]
  },
  {
   "cell_type": "code",
   "execution_count": 37,
   "id": "abe9bc41-0dbb-43f4-8dbe-88376b57da36",
   "metadata": {},
   "outputs": [
    {
     "name": "stdout",
     "output_type": "stream",
     "text": [
      "<class 'pandas.core.frame.DataFrame'>\n",
      "Index: 82261 entries, 0 to 187528\n",
      "Data columns (total 25 columns):\n",
      " #   Column             Non-Null Count  Dtype   \n",
      "---  ------             --------------  -----   \n",
      " 0   Index              82261 non-null  int64   \n",
      " 1   Title              82261 non-null  object  \n",
      " 2   Description        82261 non-null  object  \n",
      " 3   Amount(in rupees)  82261 non-null  float64 \n",
      " 4   Price (in rupees)  82261 non-null  float64 \n",
      " 5   location           82261 non-null  category\n",
      " 6   Carpet Area        82261 non-null  float64 \n",
      " 7   Status             82261 non-null  int64   \n",
      " 8   Transaction        82258 non-null  category\n",
      " 9   Furnishing         82242 non-null  category\n",
      " 10  facing             69094 non-null  category\n",
      " 11  overlooking        63420 non-null  category\n",
      " 12  Society            82261 non-null  object  \n",
      " 13  Bathroom           82261 non-null  object  \n",
      " 14  Balcony            82261 non-null  object  \n",
      " 15  Car Parking        82261 non-null  object  \n",
      " 16  Ownership          69132 non-null  category\n",
      " 17  Super Area         0 non-null      float64 \n",
      " 18  Dimensions         82261 non-null  object  \n",
      " 19  Plot Area          82261 non-null  object  \n",
      " 20  Current Floor      82261 non-null  int64   \n",
      " 21  Total Floors       82261 non-null  int64   \n",
      " 22  Garden/Park        82261 non-null  int64   \n",
      " 23  Main Road          82261 non-null  int64   \n",
      " 24  Pool               82261 non-null  int64   \n",
      "dtypes: category(6), float64(4), int64(7), object(8)\n",
      "memory usage: 13.0+ MB\n"
     ]
    }
   ],
   "source": [
    "housing.info()"
   ]
  },
  {
   "cell_type": "code",
   "execution_count": 38,
   "id": "f126c534-05ec-46e2-a3a6-0db1430e998c",
   "metadata": {},
   "outputs": [
    {
     "data": {
      "text/plain": [
       "Index                    0\n",
       "Title                    0\n",
       "Description              0\n",
       "Amount(in rupees)        0\n",
       "Price (in rupees)        0\n",
       "location                 0\n",
       "Carpet Area              0\n",
       "Status                   0\n",
       "Transaction              3\n",
       "Furnishing              19\n",
       "facing               13167\n",
       "overlooking          18841\n",
       "Society                  0\n",
       "Bathroom                 0\n",
       "Balcony                  0\n",
       "Car Parking              0\n",
       "Ownership            13129\n",
       "Super Area           82261\n",
       "Dimensions               0\n",
       "Plot Area                0\n",
       "Current Floor            0\n",
       "Total Floors             0\n",
       "Garden/Park              0\n",
       "Main Road                0\n",
       "Pool                     0\n",
       "dtype: int64"
      ]
     },
     "execution_count": 38,
     "metadata": {},
     "output_type": "execute_result"
    }
   ],
   "source": [
    "# Check for datatype and corresponding missing values again \n",
    "na_rows = housing.isna().sum(axis=0)\n",
    "na_rows"
   ]
  }
 ],
 "metadata": {
  "kernelspec": {
   "display_name": "Python 3 (ipykernel)",
   "language": "python",
   "name": "python3"
  },
  "language_info": {
   "codemirror_mode": {
    "name": "ipython",
    "version": 3
   },
   "file_extension": ".py",
   "mimetype": "text/x-python",
   "name": "python",
   "nbconvert_exporter": "python",
   "pygments_lexer": "ipython3",
   "version": "3.11.7"
  }
 },
 "nbformat": 4,
 "nbformat_minor": 5
}
