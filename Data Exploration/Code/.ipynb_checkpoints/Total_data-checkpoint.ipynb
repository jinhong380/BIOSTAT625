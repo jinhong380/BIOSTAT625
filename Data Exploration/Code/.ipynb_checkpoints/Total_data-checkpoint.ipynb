{
 "cells": [
  {
   "cell_type": "code",
   "execution_count": 1,
   "id": "23f1d167-4133-45ba-9c35-df004c8321bb",
   "metadata": {},
   "outputs": [],
   "source": [
    "import pandas as pd\n",
    "from sklearn.model_selection import train_test_split\n",
    "import numpy as np"
   ]
  },
  {
   "cell_type": "markdown",
   "id": "c5e3857a-1bd3-42bc-a04c-47931c849d00",
   "metadata": {},
   "source": [
    "# Read dataset"
   ]
  },
  {
   "cell_type": "code",
   "execution_count": 28,
   "id": "949045d4-d175-424e-8e09-6771c696bb71",
   "metadata": {},
   "outputs": [],
   "source": [
    "housing_JT_JG = pd.read_csv(\"/Users/jintonghong/Documents/GitHub/BIOSTAT625/Data Exploration/Individual_data/housing_export_jh380.csv\", keep_default_na=True, na_values='null')"
   ]
  },
  {
   "cell_type": "code",
   "execution_count": 29,
   "id": "1d491018-d995-47d8-8818-d1c5ab8d857b",
   "metadata": {},
   "outputs": [],
   "source": [
    "housing_WJ = pd.read_csv(\"/Users/jintonghong/Documents/GitHub/BIOSTAT625/Data Exploration/Individual_data/processed_house_prices.csv\", keep_default_na=True, na_values='null')"
   ]
  },
  {
   "cell_type": "code",
   "execution_count": 30,
   "id": "b7b36413-5ccb-48f5-b2b7-a843fab4318a",
   "metadata": {},
   "outputs": [],
   "source": [
    "housing_SH = pd.read_csv(\"/Users/jintonghong/Documents/GitHub/BIOSTAT625/Data Exploration/Individual_data/first3columns.csv\", keep_default_na=True, na_values='null')"
   ]
  },
  {
   "cell_type": "markdown",
   "id": "a936ac6e-61f7-4bb9-a1b3-374bfa402aa3",
   "metadata": {},
   "source": [
    "## *Function for data cleaning make up for errors caused by csv import*"
   ]
  },
  {
   "cell_type": "code",
   "execution_count": 31,
   "id": "640301f8-b170-4af2-be41-cc53b2d88cad",
   "metadata": {},
   "outputs": [],
   "source": [
    "def clean_dataset(df):\n",
    "    # Replace True with 1 and False with 0\n",
    "    df = df.map(lambda x: 1 if x is True else (0 if x is False else x))\n",
    "    \n",
    "    # Replace empty strings '' with 'na'\n",
    "    df = df.map(lambda x: np.nan if x == '' else x)\n",
    "\n",
    "    # Convert non-numeric columns (after conversion attempt) to categorical\n",
    "    for column in df.select_dtypes(include=[object]):\n",
    "        df[column] = df[column].astype('category')\n",
    "    \n",
    "    \n",
    "    return df"
   ]
  },
  {
   "cell_type": "markdown",
   "id": "0bf0ffd8-d3bc-4409-8d50-68f4e86483ea",
   "metadata": {},
   "source": [
    "# combine datasets"
   ]
  },
  {
   "cell_type": "code",
   "execution_count": 24,
   "id": "3a9a366d-4702-42b9-bf2b-383f6759fd08",
   "metadata": {},
   "outputs": [],
   "source": [
    "housing_exports = [housing_JT_JG,housing_WJ, housing_SH] # all datasets need to be combined"
   ]
  },
  {
   "cell_type": "code",
   "execution_count": 32,
   "id": "a48ccead-47da-4d32-a523-b35cd9ccc767",
   "metadata": {},
   "outputs": [],
   "source": [
    "combined_housing_export = pd.concat(housing_exports, sort=False, axis = 1) # Combining datasets"
   ]
  },
  {
   "cell_type": "code",
   "execution_count": 33,
   "id": "8a794070-ff11-47bd-b46d-972dd3481a19",
   "metadata": {},
   "outputs": [
    {
     "name": "stdout",
     "output_type": "stream",
     "text": [
      "<class 'pandas.core.frame.DataFrame'>\n",
      "RangeIndex: 187531 entries, 0 to 187530\n",
      "Data columns (total 33 columns):\n",
      " #   Column                     Non-Null Count   Dtype  \n",
      "---  ------                     --------------   -----  \n",
      " 0   Status                     187531 non-null  int64  \n",
      " 1   Transaction                187448 non-null  object \n",
      " 2   Transaction_Other          187448 non-null  float64\n",
      " 3   Transaction_Resale         187448 non-null  float64\n",
      " 4   Transaction_New Property   187448 non-null  float64\n",
      " 5   Transaction_Rent/Lease     187448 non-null  float64\n",
      " 6   Current Floor              180092 non-null  float64\n",
      " 7   Total Floors               180405 non-null  float64\n",
      " 8   Current Floor.c            180092 non-null  float64\n",
      " 9   Total Floors.c             180405 non-null  float64\n",
      " 10  Garden/Park                106095 non-null  float64\n",
      " 11  Pool                       106095 non-null  float64\n",
      " 12  Main Road                  106095 non-null  float64\n",
      " 13  facing_East                117298 non-null  float64\n",
      " 14  facing_West                117298 non-null  float64\n",
      " 15  facing_North - East        117298 non-null  float64\n",
      " 16  facing_North               117298 non-null  float64\n",
      " 17  facing_North - West        117298 non-null  float64\n",
      " 18  facing_South               117298 non-null  float64\n",
      " 19  facing_South -West         117298 non-null  float64\n",
      " 20  facing_South - East        117298 non-null  float64\n",
      " 21  Furnishing_Unfurnished     184634 non-null  float64\n",
      " 22  Furnishing_Semi-Furnished  184634 non-null  float64\n",
      " 23  Furnishing_Furnished       184634 non-null  float64\n",
      " 24  Index                      187531 non-null  int64  \n",
      " 25  Bathroom_Category          186668 non-null  object \n",
      " 26  Balcony_Category           138574 non-null  object \n",
      " 27  Car_Parking_Category       187531 non-null  object \n",
      " 28  Ownership_Category         187531 non-null  object \n",
      " 29  Unnamed: 0                 187531 non-null  int64  \n",
      " 30  Price (in rupees)          169866 non-null  float64\n",
      " 31  location                   187531 non-null  object \n",
      " 32  Carpet Area                100428 non-null  float64\n",
      "dtypes: float64(24), int64(3), object(6)\n",
      "memory usage: 47.2+ MB\n"
     ]
    }
   ],
   "source": [
    "combined_housing_export.info()"
   ]
  },
  {
   "cell_type": "markdown",
   "id": "cda0c258-74f0-4a90-a3cd-75f69e7937f2",
   "metadata": {},
   "source": [
    "# Process combined dataset"
   ]
  },
  {
   "cell_type": "code",
   "execution_count": 34,
   "id": "77ffc2ca-6bb0-48df-a13d-0602803d1913",
   "metadata": {},
   "outputs": [],
   "source": [
    "housing_cleaned = clean_dataset(combined_housing_export)"
   ]
  },
  {
   "cell_type": "code",
   "execution_count": 37,
   "id": "a0b403e7-a486-421d-8ed3-fb223ace2cdd",
   "metadata": {},
   "outputs": [
    {
     "name": "stdout",
     "output_type": "stream",
     "text": [
      "<class 'pandas.core.frame.DataFrame'>\n",
      "RangeIndex: 187531 entries, 0 to 187530\n",
      "Data columns (total 33 columns):\n",
      " #   Column                     Non-Null Count   Dtype   \n",
      "---  ------                     --------------   -----   \n",
      " 0   Status                     187531 non-null  int64   \n",
      " 1   Transaction                187448 non-null  category\n",
      " 2   Transaction_Other          187448 non-null  float64 \n",
      " 3   Transaction_Resale         187448 non-null  float64 \n",
      " 4   Transaction_New Property   187448 non-null  float64 \n",
      " 5   Transaction_Rent/Lease     187448 non-null  float64 \n",
      " 6   Current Floor              180092 non-null  float64 \n",
      " 7   Total Floors               180405 non-null  float64 \n",
      " 8   Current Floor.c            180092 non-null  float64 \n",
      " 9   Total Floors.c             180405 non-null  float64 \n",
      " 10  Garden/Park                106095 non-null  float64 \n",
      " 11  Pool                       106095 non-null  float64 \n",
      " 12  Main Road                  106095 non-null  float64 \n",
      " 13  facing_East                117298 non-null  float64 \n",
      " 14  facing_West                117298 non-null  float64 \n",
      " 15  facing_North - East        117298 non-null  float64 \n",
      " 16  facing_North               117298 non-null  float64 \n",
      " 17  facing_North - West        117298 non-null  float64 \n",
      " 18  facing_South               117298 non-null  float64 \n",
      " 19  facing_South -West         117298 non-null  float64 \n",
      " 20  facing_South - East        117298 non-null  float64 \n",
      " 21  Furnishing_Unfurnished     184634 non-null  float64 \n",
      " 22  Furnishing_Semi-Furnished  184634 non-null  float64 \n",
      " 23  Furnishing_Furnished       184634 non-null  float64 \n",
      " 24  Index                      187531 non-null  int64   \n",
      " 25  Bathroom_Category          186668 non-null  category\n",
      " 26  Balcony_Category           138574 non-null  category\n",
      " 27  Car_Parking_Category       187531 non-null  category\n",
      " 28  Ownership_Category         187531 non-null  category\n",
      " 29  Unnamed: 0                 187531 non-null  int64   \n",
      " 30  Price (in rupees)          169866 non-null  float64 \n",
      " 31  location                   187531 non-null  category\n",
      " 32  Carpet Area                100428 non-null  float64 \n",
      "dtypes: category(6), float64(24), int64(3)\n",
      "memory usage: 39.7 MB\n"
     ]
    }
   ],
   "source": [
    "housing_cleaned.info()"
   ]
  },
  {
   "cell_type": "code",
   "execution_count": 38,
   "id": "3967dbd4-4cc9-4a77-80a3-67ad19ad4890",
   "metadata": {},
   "outputs": [],
   "source": [
    "housing_cleaned.to_csv('housing_cleaned.csv', index=False)"
   ]
  },
  {
   "cell_type": "markdown",
   "id": "ec9e5f8c-06e4-4e1c-819f-eb10daaa2600",
   "metadata": {},
   "source": [
    "# Train test split"
   ]
  },
  {
   "cell_type": "code",
   "execution_count": null,
   "id": "860b3cae-a9eb-40ca-a3e1-1c8f0fadb33c",
   "metadata": {},
   "outputs": [],
   "source": [
    "X = housing_cleaned.drop(columns=['Price'])\n",
    "y = housing_cleaned['Price (in rupees)']\n",
    "\n",
    "X_train, X_test, y_train, y_test = train_test_split(X, y, test_size=0.2, random_state=625)"
   ]
  }
 ],
 "metadata": {
  "kernelspec": {
   "display_name": "Python 3 (ipykernel)",
   "language": "python",
   "name": "python3"
  },
  "language_info": {
   "codemirror_mode": {
    "name": "ipython",
    "version": 3
   },
   "file_extension": ".py",
   "mimetype": "text/x-python",
   "name": "python",
   "nbconvert_exporter": "python",
   "pygments_lexer": "ipython3",
   "version": "3.11.7"
  }
 },
 "nbformat": 4,
 "nbformat_minor": 5
}
