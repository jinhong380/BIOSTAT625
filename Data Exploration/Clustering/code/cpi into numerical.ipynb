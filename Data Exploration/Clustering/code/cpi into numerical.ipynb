{
 "cells": [
  {
   "cell_type": "code",
   "execution_count": 4,
   "id": "6d52a946",
   "metadata": {},
   "outputs": [
    {
     "name": "stdout",
     "output_type": "stream",
     "text": [
      "  Sl. No.  Name of the State/UT  Rural  Unnamed: 3 Urban  Unnamed: 5 Combined  \\\n",
      "0       1        Andhra Pradesh   5.40      196.6   3.64      197.2     4.58    \n",
      "1       2     Arunachal Pradesh   0.14      197.6   0.06         --     0.10    \n",
      "2       3                 Assam   2.63      197.1   0.79      193.2     1.77    \n",
      "3       4                 Bihar   8.21      192.4   1.62      199.1     5.14    \n",
      "4       5          Chhattisgarh   1.68      188.3   1.22      183.5     1.46    \n",
      "\n",
      "  Unnamed: 7  \n",
      "0     196.8   \n",
      "1     197.6   \n",
      "2     196.3   \n",
      "3     193.4   \n",
      "4     186.4   \n"
     ]
    }
   ],
   "source": [
    "import pandas as pd\n",
    "\n",
    "# Load the Excel file\n",
    "file_path = '/Users/chensihan/Desktop/CPI_ of_ India.xlsx'\n",
    "data = pd.ExcelFile(file_path)\n",
    "\n",
    "# Load the data from the first sheet\n",
    "sheet_data = data.parse('Sheet1')\n",
    "\n",
    "# Display the first few rows to inspect\n",
    "print(sheet_data.head())\n"
   ]
  },
  {
   "cell_type": "code",
   "execution_count": 5,
   "id": "ed62f408",
   "metadata": {},
   "outputs": [
    {
     "data": {
      "text/html": [
       "<div>\n",
       "<style scoped>\n",
       "    .dataframe tbody tr th:only-of-type {\n",
       "        vertical-align: middle;\n",
       "    }\n",
       "\n",
       "    .dataframe tbody tr th {\n",
       "        vertical-align: top;\n",
       "    }\n",
       "\n",
       "    .dataframe thead th {\n",
       "        text-align: right;\n",
       "    }\n",
       "</style>\n",
       "<table border=\"1\" class=\"dataframe\">\n",
       "  <thead>\n",
       "    <tr style=\"text-align: right;\">\n",
       "      <th></th>\n",
       "      <th>Unnamed: 7</th>\n",
       "      <th>Unnamed: 7 (Numeric)</th>\n",
       "    </tr>\n",
       "  </thead>\n",
       "  <tbody>\n",
       "    <tr>\n",
       "      <th>0</th>\n",
       "      <td>196.8</td>\n",
       "      <td>196.8</td>\n",
       "    </tr>\n",
       "    <tr>\n",
       "      <th>1</th>\n",
       "      <td>197.6</td>\n",
       "      <td>197.6</td>\n",
       "    </tr>\n",
       "    <tr>\n",
       "      <th>2</th>\n",
       "      <td>196.3</td>\n",
       "      <td>196.3</td>\n",
       "    </tr>\n",
       "    <tr>\n",
       "      <th>3</th>\n",
       "      <td>193.4</td>\n",
       "      <td>193.4</td>\n",
       "    </tr>\n",
       "    <tr>\n",
       "      <th>4</th>\n",
       "      <td>186.4</td>\n",
       "      <td>186.4</td>\n",
       "    </tr>\n",
       "  </tbody>\n",
       "</table>\n",
       "</div>"
      ],
      "text/plain": [
       "  Unnamed: 7  Unnamed: 7 (Numeric)\n",
       "0      196.8                 196.8\n",
       "1      197.6                 197.6\n",
       "2      196.3                 196.3\n",
       "3      193.4                 193.4\n",
       "4      186.4                 186.4"
      ]
     },
     "execution_count": 5,
     "metadata": {},
     "output_type": "execute_result"
    }
   ],
   "source": [
    "# Strip any extra whitespace and remove non-numeric characters if present\n",
    "sheet_data['Unnamed: 7'] = sheet_data['Unnamed: 7'].astype(str).str.strip()\n",
    "\n",
    "# Attempt to convert to numeric, coercing errors to NaN\n",
    "sheet_data['Unnamed: 7 (Numeric)'] = pd.to_numeric(sheet_data['Unnamed: 7'], errors='coerce')\n",
    "\n",
    "# Display the cleaned column\n",
    "sheet_data[['Unnamed: 7', 'Unnamed: 7 (Numeric)']].head()\n"
   ]
  },
  {
   "cell_type": "code",
   "execution_count": 6,
   "id": "9913d6b3",
   "metadata": {},
   "outputs": [
    {
     "data": {
      "text/plain": [
       "'/Users/chensihan/Desktop/CPI_of_India_Cleaned.xlsx'"
      ]
     },
     "execution_count": 6,
     "metadata": {},
     "output_type": "execute_result"
    }
   ],
   "source": [
    "# Save the updated file with the cleaned column\n",
    "output_path = '/Users/chensihan/Desktop/CPI_of_India_Cleaned.xlsx'\n",
    "sheet_data.to_excel(output_path, index=False)\n",
    "output_path\n"
   ]
  },
  {
   "cell_type": "code",
   "execution_count": null,
   "id": "efaa96a5",
   "metadata": {},
   "outputs": [],
   "source": []
  }
 ],
 "metadata": {
  "kernelspec": {
   "display_name": "Python 3 (ipykernel)",
   "language": "python",
   "name": "python3"
  },
  "language_info": {
   "codemirror_mode": {
    "name": "ipython",
    "version": 3
   },
   "file_extension": ".py",
   "mimetype": "text/x-python",
   "name": "python",
   "nbconvert_exporter": "python",
   "pygments_lexer": "ipython3",
   "version": "3.11.4"
  }
 },
 "nbformat": 4,
 "nbformat_minor": 5
}
