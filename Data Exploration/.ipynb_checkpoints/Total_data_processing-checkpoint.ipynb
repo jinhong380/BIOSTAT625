{
 "cells": [
  {
   "cell_type": "code",
   "execution_count": 52,
   "id": "23f1d167-4133-45ba-9c35-df004c8321bb",
   "metadata": {},
   "outputs": [],
   "source": [
    "import pandas as pd\n",
    "from sklearn.model_selection import train_test_split\n",
    "import numpy as np"
   ]
  },
  {
   "cell_type": "markdown",
   "id": "c5e3857a-1bd3-42bc-a04c-47931c849d00",
   "metadata": {},
   "source": [
    "# Read dataset"
   ]
  },
  {
   "cell_type": "code",
   "execution_count": 77,
   "id": "949045d4-d175-424e-8e09-6771c696bb71",
   "metadata": {},
   "outputs": [],
   "source": [
    "housing_JT = pd.read_csv(\"/Users/jintonghong/Documents/GitHub/BIOSTAT625/Data Exploration/housing_export_jh380.csv\", keep_default_na=True, na_values='null')"
   ]
  },
  {
   "cell_type": "code",
   "execution_count": 75,
   "id": "806f3656-b380-4c79-aaa1-88b95d5eaedf",
   "metadata": {},
   "outputs": [],
   "source": [
    "housing_J = pd.read_csv(\"/Users/jintonghong/Desktop/umich/24-25/BIOSTAT625/Final Project/data_exploration/encodedData.csv\", keep_default_na=True, na_values='null')"
   ]
  },
  {
   "cell_type": "code",
   "execution_count": null,
   "id": "1d491018-d995-47d8-8818-d1c5ab8d857b",
   "metadata": {},
   "outputs": [],
   "source": [
    "housing_WJ = pd.read_csv(\"/Users/morgan/Desktop/processed_house_prices.csv\", keep_default_na=True, na_values='null'))"
   ]
  },
  {
   "cell_type": "code",
   "execution_count": null,
   "id": "b7b36413-5ccb-48f5-b2b7-a843fab4318a",
   "metadata": {},
   "outputs": [],
   "source": [
    "housing_SH = pd.read_csv(\"\", keep_default_na=True, na_values='null'))"
   ]
  },
  {
   "cell_type": "markdown",
   "id": "a936ac6e-61f7-4bb9-a1b3-374bfa402aa3",
   "metadata": {},
   "source": [
    "## *Function for data cleaning make up for errors caused by csv import*"
   ]
  },
  {
   "cell_type": "code",
   "execution_count": 79,
   "id": "640301f8-b170-4af2-be41-cc53b2d88cad",
   "metadata": {},
   "outputs": [],
   "source": [
    "def clean_dataset(df):\n",
    "    # Replace True with 1 and False with 0\n",
    "    df = df.map(lambda x: 1 if x is True else (0 if x is False else x))\n",
    "    \n",
    "    # Replace empty strings '' with 'na'\n",
    "    df = df.map(lambda x: np.nan if x == '' else x)\n",
    "\n",
    "    # Convert non-numeric columns (after conversion attempt) to categorical\n",
    "    for column in df.select_dtypes(include=[object]):\n",
    "        df[column] = df[column].astype('category')\n",
    "    \n",
    "    \n",
    "    return df"
   ]
  },
  {
   "cell_type": "code",
   "execution_count": 80,
   "id": "9aa99512-0883-46a5-82e9-5d0ef166d0cd",
   "metadata": {},
   "outputs": [
    {
     "name": "stdout",
     "output_type": "stream",
     "text": [
      "<class 'pandas.core.frame.DataFrame'>\n",
      "RangeIndex: 187531 entries, 0 to 187530\n",
      "Data columns (total 10 columns):\n",
      " #   Column                    Non-Null Count   Dtype   \n",
      "---  ------                    --------------   -----   \n",
      " 0   Status                    187531 non-null  int64   \n",
      " 1   Transaction               187448 non-null  category\n",
      " 2   Transaction_Other         187531 non-null  int64   \n",
      " 3   Transaction_Resale        187531 non-null  int64   \n",
      " 4   Transaction_New Property  187531 non-null  int64   \n",
      " 5   Transaction_Rent/Lease    187531 non-null  int64   \n",
      " 6   Current Floor             180092 non-null  float64 \n",
      " 7   Total Floors              180405 non-null  float64 \n",
      " 8   Current Floor.c           180092 non-null  float64 \n",
      " 9   Total Floors.c            180405 non-null  float64 \n",
      "dtypes: category(1), float64(4), int64(5)\n",
      "memory usage: 13.1 MB\n"
     ]
    }
   ],
   "source": [
    "df_cleaned.info()"
   ]
  },
  {
   "cell_type": "markdown",
   "id": "0bf0ffd8-d3bc-4409-8d50-68f4e86483ea",
   "metadata": {},
   "source": [
    "# combine datasets"
   ]
  },
  {
   "cell_type": "code",
   "execution_count": 84,
   "id": "3a9a366d-4702-42b9-bf2b-383f6759fd08",
   "metadata": {},
   "outputs": [],
   "source": [
    "housing_exports = [housing_JT,housing_J,housing_WJ, housing_SH] # all datasets need to be combined"
   ]
  },
  {
   "cell_type": "code",
   "execution_count": 85,
   "id": "a48ccead-47da-4d32-a523-b35cd9ccc767",
   "metadata": {},
   "outputs": [],
   "source": [
    "combined_housing_export = pd.concat(housing_exports, ignore_index=True, sort=False) # Combining datasets"
   ]
  },
  {
   "cell_type": "code",
   "execution_count": 88,
   "id": "8a794070-ff11-47bd-b46d-972dd3481a19",
   "metadata": {},
   "outputs": [
    {
     "name": "stdout",
     "output_type": "stream",
     "text": [
      "<class 'pandas.core.frame.DataFrame'>\n",
      "RangeIndex: 375062 entries, 0 to 375061\n",
      "Data columns (total 25 columns):\n",
      " #   Column                    Non-Null Count   Dtype   \n",
      "---  ------                    --------------   -----   \n",
      " 0   Unnamed: 0                187531 non-null  float64 \n",
      " 1   FurnishingFurnished       187531 non-null  float64 \n",
      " 2   FurnishingSemi.Furnished  187531 non-null  float64 \n",
      " 3   FurnishingUnfurnished     187531 non-null  float64 \n",
      " 4   facingEast                187531 non-null  float64 \n",
      " 5   facingNorth               187531 non-null  float64 \n",
      " 6   facingNorth...East        187531 non-null  float64 \n",
      " 7   facingNorth...West        187531 non-null  float64 \n",
      " 8   facingSouth               187531 non-null  float64 \n",
      " 9   facingSouth...East        187531 non-null  float64 \n",
      " 10  facingSouth..West         187531 non-null  float64 \n",
      " 11  facingWest                187531 non-null  float64 \n",
      " 12  Garden.Park               187531 non-null  float64 \n",
      " 13  Main.Road                 187531 non-null  float64 \n",
      " 14  Pool                      187531 non-null  float64 \n",
      " 15  Status                    187531 non-null  float64 \n",
      " 16  Transaction               187448 non-null  category\n",
      " 17  Transaction_Other         187531 non-null  float64 \n",
      " 18  Transaction_Resale        187531 non-null  float64 \n",
      " 19  Transaction_New Property  187531 non-null  float64 \n",
      " 20  Transaction_Rent/Lease    187531 non-null  float64 \n",
      " 21  Current Floor             180092 non-null  float64 \n",
      " 22  Total Floors              180405 non-null  float64 \n",
      " 23  Current Floor.c           180092 non-null  float64 \n",
      " 24  Total Floors.c            180405 non-null  float64 \n",
      "dtypes: category(1), float64(24)\n",
      "memory usage: 69.0 MB\n"
     ]
    }
   ],
   "source": [
    "combined_housing_export.info()"
   ]
  },
  {
   "cell_type": "markdown",
   "id": "cda0c258-74f0-4a90-a3cd-75f69e7937f2",
   "metadata": {},
   "source": [
    "# Process combined dataset"
   ]
  },
  {
   "cell_type": "code",
   "execution_count": 61,
   "id": "77ffc2ca-6bb0-48df-a13d-0602803d1913",
   "metadata": {},
   "outputs": [
    {
     "data": {
      "text/html": [
       "<div>\n",
       "<style scoped>\n",
       "    .dataframe tbody tr th:only-of-type {\n",
       "        vertical-align: middle;\n",
       "    }\n",
       "\n",
       "    .dataframe tbody tr th {\n",
       "        vertical-align: top;\n",
       "    }\n",
       "\n",
       "    .dataframe thead th {\n",
       "        text-align: right;\n",
       "    }\n",
       "</style>\n",
       "<table border=\"1\" class=\"dataframe\">\n",
       "  <thead>\n",
       "    <tr style=\"text-align: right;\">\n",
       "      <th></th>\n",
       "      <th>Status</th>\n",
       "      <th>Transaction</th>\n",
       "      <th>Transaction_Other</th>\n",
       "      <th>Transaction_Resale</th>\n",
       "      <th>Transaction_New Property</th>\n",
       "      <th>Transaction_Rent/Lease</th>\n",
       "      <th>Current Floor</th>\n",
       "      <th>Total Floors</th>\n",
       "      <th>Current Floor.c</th>\n",
       "      <th>Total Floors.c</th>\n",
       "    </tr>\n",
       "  </thead>\n",
       "  <tbody>\n",
       "    <tr>\n",
       "      <th>0</th>\n",
       "      <td>1</td>\n",
       "      <td>Resale</td>\n",
       "      <td>0</td>\n",
       "      <td>1</td>\n",
       "      <td>0</td>\n",
       "      <td>0</td>\n",
       "      <td>10.0</td>\n",
       "      <td>11.0</td>\n",
       "      <td>1.1897773234273794</td>\n",
       "      <td>0.2924224755521858</td>\n",
       "    </tr>\n",
       "    <tr>\n",
       "      <th>1</th>\n",
       "      <td>1</td>\n",
       "      <td>Resale</td>\n",
       "      <td>0</td>\n",
       "      <td>1</td>\n",
       "      <td>0</td>\n",
       "      <td>0</td>\n",
       "      <td>3.0</td>\n",
       "      <td>22.0</td>\n",
       "      <td>-0.31182615506680317</td>\n",
       "      <td>1.7374986608297533</td>\n",
       "    </tr>\n",
       "    <tr>\n",
       "      <th>2</th>\n",
       "      <td>1</td>\n",
       "      <td>Resale</td>\n",
       "      <td>0</td>\n",
       "      <td>1</td>\n",
       "      <td>0</td>\n",
       "      <td>0</td>\n",
       "      <td>10.0</td>\n",
       "      <td>29.0</td>\n",
       "      <td>1.1897773234273794</td>\n",
       "      <td>2.6570925969154784</td>\n",
       "    </tr>\n",
       "    <tr>\n",
       "      <th>3</th>\n",
       "      <td>1</td>\n",
       "      <td>Resale</td>\n",
       "      <td>0</td>\n",
       "      <td>1</td>\n",
       "      <td>0</td>\n",
       "      <td>0</td>\n",
       "      <td>1.0</td>\n",
       "      <td>3.0</td>\n",
       "      <td>-0.7408557203508553</td>\n",
       "      <td>-0.7585420228314997</td>\n",
       "    </tr>\n",
       "    <tr>\n",
       "      <th>4</th>\n",
       "      <td>1</td>\n",
       "      <td>Resale</td>\n",
       "      <td>0</td>\n",
       "      <td>1</td>\n",
       "      <td>0</td>\n",
       "      <td>0</td>\n",
       "      <td>20.0</td>\n",
       "      <td>42.0</td>\n",
       "      <td>3.33492514984764</td>\n",
       "      <td>4.3649099067889665</td>\n",
       "    </tr>\n",
       "  </tbody>\n",
       "</table>\n",
       "</div>"
      ],
      "text/plain": [
       "   Status Transaction  Transaction_Other  Transaction_Resale  \\\n",
       "0       1      Resale                  0                   1   \n",
       "1       1      Resale                  0                   1   \n",
       "2       1      Resale                  0                   1   \n",
       "3       1      Resale                  0                   1   \n",
       "4       1      Resale                  0                   1   \n",
       "\n",
       "   Transaction_New Property  Transaction_Rent/Lease Current Floor  \\\n",
       "0                         0                       0          10.0   \n",
       "1                         0                       0           3.0   \n",
       "2                         0                       0          10.0   \n",
       "3                         0                       0           1.0   \n",
       "4                         0                       0          20.0   \n",
       "\n",
       "  Total Floors       Current Floor.c       Total Floors.c  \n",
       "0         11.0    1.1897773234273794   0.2924224755521858  \n",
       "1         22.0  -0.31182615506680317   1.7374986608297533  \n",
       "2         29.0    1.1897773234273794   2.6570925969154784  \n",
       "3          3.0   -0.7408557203508553  -0.7585420228314997  \n",
       "4         42.0      3.33492514984764   4.3649099067889665  "
      ]
     },
     "execution_count": 61,
     "metadata": {},
     "output_type": "execute_result"
    }
   ],
   "source": [
    "housing_cleaned = clean_dataset(combined_housing_export)"
   ]
  },
  {
   "cell_type": "code",
   "execution_count": null,
   "id": "a0b403e7-a486-421d-8ed3-fb223ace2cdd",
   "metadata": {},
   "outputs": [],
   "source": [
    "housing_cleaned.head()"
   ]
  },
  {
   "cell_type": "markdown",
   "id": "ec9e5f8c-06e4-4e1c-819f-eb10daaa2600",
   "metadata": {},
   "source": [
    "# Train test split"
   ]
  },
  {
   "cell_type": "code",
   "execution_count": null,
   "id": "860b3cae-a9eb-40ca-a3e1-1c8f0fadb33c",
   "metadata": {},
   "outputs": [],
   "source": [
    "X = housing_cleaned.drop(columns=['Price'])\n",
    "y = housing_cleaned['Price (in rupees)']\n",
    "\n",
    "X_train, X_test, y_train, y_test = train_test_split(X, y, test_size=0.2, random_state=625)"
   ]
  }
 ],
 "metadata": {
  "kernelspec": {
   "display_name": "Python 3 (ipykernel)",
   "language": "python",
   "name": "python3"
  },
  "language_info": {
   "codemirror_mode": {
    "name": "ipython",
    "version": 3
   },
   "file_extension": ".py",
   "mimetype": "text/x-python",
   "name": "python",
   "nbconvert_exporter": "python",
   "pygments_lexer": "ipython3",
   "version": "3.11.7"
  }
 },
 "nbformat": 4,
 "nbformat_minor": 5
}
