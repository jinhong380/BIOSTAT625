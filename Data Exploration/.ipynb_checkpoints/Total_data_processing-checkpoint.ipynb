{
 "cells": [
  {
   "cell_type": "code",
   "execution_count": 2,
   "id": "23f1d167-4133-45ba-9c35-df004c8321bb",
   "metadata": {},
   "outputs": [],
   "source": [
    "import pandas as pd\n",
    "from sklearn.model_selection import train_test_split\n",
    "import numpy as np"
   ]
  },
  {
   "cell_type": "markdown",
   "id": "c5e3857a-1bd3-42bc-a04c-47931c849d00",
   "metadata": {},
   "source": [
    "# Read dataset"
   ]
  },
  {
   "cell_type": "code",
   "execution_count": 55,
   "id": "949045d4-d175-424e-8e09-6771c696bb71",
   "metadata": {},
   "outputs": [],
   "source": [
    "housing_JT_JG = pd.read_csv(\"/Users/jintonghong/Documents/GitHub/BIOSTAT625/Data Exploration/housing_export_jh380_jg.csv\", keep_default_na=True, na_values='null')"
   ]
  },
  {
   "cell_type": "code",
   "execution_count": 56,
   "id": "1d491018-d995-47d8-8818-d1c5ab8d857b",
   "metadata": {},
   "outputs": [],
   "source": [
    "housing_WJ = pd.read_csv(\"/Users/jintonghong/Desktop/umich/24-25/BIOSTAT625/Final Project/data_exploration/processed_house_prices.csv\", keep_default_na=True, na_values='null')"
   ]
  },
  {
   "cell_type": "code",
   "execution_count": 57,
   "id": "b7b36413-5ccb-48f5-b2b7-a843fab4318a",
   "metadata": {},
   "outputs": [],
   "source": [
    "housing_SH = pd.read_csv(\"/Users/jintonghong/Desktop/umich/24-25/BIOSTAT625/Final Project/data_exploration/first3columns.csv\", keep_default_na=True, na_values='null')"
   ]
  },
  {
   "cell_type": "markdown",
   "id": "a936ac6e-61f7-4bb9-a1b3-374bfa402aa3",
   "metadata": {},
   "source": [
    "## *Function for data cleaning make up for errors caused by csv import*"
   ]
  },
  {
   "cell_type": "code",
   "execution_count": 104,
   "id": "640301f8-b170-4af2-be41-cc53b2d88cad",
   "metadata": {},
   "outputs": [],
   "source": [
    "def clean_dataset(df):\n",
    "    # Replace True with 1 and False with 0, and empty strings with NaN\n",
    "    df = df.replace({True: 1, False: 0, '': np.nan, \"nan\":np.nan, \"False\": 0, \"True\":1})\n",
    "    \n",
    "    # Convert all object-type columns to categorical dtype\n",
    "    df[df.select_dtypes(include=['object']).columns] = df.select_dtypes(include=['object']).astype('category')\n",
    "    \n",
    "    return df"
   ]
  },
  {
   "cell_type": "markdown",
   "id": "0bf0ffd8-d3bc-4409-8d50-68f4e86483ea",
   "metadata": {},
   "source": [
    "# combine datasets"
   ]
  },
  {
   "cell_type": "code",
   "execution_count": 82,
   "id": "3a9a366d-4702-42b9-bf2b-383f6759fd08",
   "metadata": {},
   "outputs": [],
   "source": [
    "housing_exports = [housing_JT_JG,housing_WJ, housing_SH] # all datasets need to be combined"
   ]
  },
  {
   "cell_type": "code",
   "execution_count": 86,
   "id": "a48ccead-47da-4d32-a523-b35cd9ccc767",
   "metadata": {},
   "outputs": [],
   "source": [
    "combined_housing_export = pd.concat(housing_exports, ignore_index=True, sort=False) # Combining datasets"
   ]
  },
  {
   "cell_type": "code",
   "execution_count": 100,
   "id": "8a794070-ff11-47bd-b46d-972dd3481a19",
   "metadata": {},
   "outputs": [
    {
     "data": {
      "text/plain": [
       "array([False, True, nan], dtype=object)"
      ]
     },
     "execution_count": 100,
     "metadata": {},
     "output_type": "execute_result"
    }
   ],
   "source": [
    "combined_housing_export['facing_South -West'].unique()"
   ]
  },
  {
   "cell_type": "markdown",
   "id": "cda0c258-74f0-4a90-a3cd-75f69e7937f2",
   "metadata": {},
   "source": [
    "# Process combined dataset"
   ]
  },
  {
   "cell_type": "code",
   "execution_count": 105,
   "id": "77ffc2ca-6bb0-48df-a13d-0602803d1913",
   "metadata": {},
   "outputs": [],
   "source": [
    "housing_cleaned = clean_dataset(combined_housing_export)"
   ]
  },
  {
   "cell_type": "code",
   "execution_count": 118,
   "id": "7aeb1095-f490-469e-9a36-97e04baddaf3",
   "metadata": {},
   "outputs": [
    {
     "name": "stdout",
     "output_type": "stream",
     "text": [
      "<class 'pandas.core.series.Series'>\n",
      "RangeIndex: 562593 entries, 0 to 562592\n",
      "Series name: facing_South - East\n",
      "Non-Null Count   Dtype  \n",
      "--------------   -----  \n",
      "187531 non-null  float64\n",
      "dtypes: float64(1)\n",
      "memory usage: 4.3 MB\n"
     ]
    }
   ],
   "source": [
    "housing_cleaned['facing_South - East'].info()"
   ]
  },
  {
   "cell_type": "code",
   "execution_count": 97,
   "id": "a0b403e7-a486-421d-8ed3-fb223ace2cdd",
   "metadata": {},
   "outputs": [],
   "source": [
    "housing_cleaned.to_csv('cleaned_housing.csv', index=False)"
   ]
  },
  {
   "cell_type": "markdown",
   "id": "ec9e5f8c-06e4-4e1c-819f-eb10daaa2600",
   "metadata": {},
   "source": [
    "# Train test split"
   ]
  },
  {
   "cell_type": "code",
   "execution_count": 34,
   "id": "860b3cae-a9eb-40ca-a3e1-1c8f0fadb33c",
   "metadata": {},
   "outputs": [],
   "source": [
    "X = housing_cleaned.drop(columns=['Price (in rupees)'])\n",
    "y = housing_cleaned['Price (in rupees)']\n",
    "\n",
    "X_train, X_test, y_train, y_test = train_test_split(X, y, test_size=0.2, random_state=625)"
   ]
  }
 ],
 "metadata": {
  "kernelspec": {
   "display_name": "Python 3 (ipykernel)",
   "language": "python",
   "name": "python3"
  },
  "language_info": {
   "codemirror_mode": {
    "name": "ipython",
    "version": 3
   },
   "file_extension": ".py",
   "mimetype": "text/x-python",
   "name": "python",
   "nbconvert_exporter": "python",
   "pygments_lexer": "ipython3",
   "version": "3.11.7"
  }
 },
 "nbformat": 4,
 "nbformat_minor": 5
}
